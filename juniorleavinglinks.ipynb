{
 "cells": [
  {
   "cell_type": "code",
   "execution_count": null,
   "metadata": {},
   "outputs": [],
   "source": [
    "\n"
   ]
  },
  {
   "cell_type": "markdown",
   "metadata": {},
   "source": [
    "Project for module Programming in Data Analytics due date 13th December 2019"
   ]
  },
  {
   "cell_type": "markdown",
   "metadata": {},
   "source": [
    "Created by Catherine A Celeste Quinlan"
   ]
  },
  {
   "cell_type": "markdown",
   "metadata": {},
   "source": [
    "To create a simulated data set based on a real life phenomenon using NUMPY.RANDOM , set it in a dataframe, and use this to show the different relationships."
   ]
  },
  {
   "cell_type": "code",
   "execution_count": 1,
   "metadata": {},
   "outputs": [],
   "source": [
    "%matplotlib notebook\n",
    "import matplotlib.pyplot as plt\n",
    "import numpy as np\n",
    "import seaborn as sb\n",
    "import pandas as pd\n",
    "\n",
    "# I import thr functions I will be using later\n"
   ]
  },
  {
   "cell_type": "code",
   "execution_count": 17,
   "metadata": {},
   "outputs": [],
   "source": [
    "# If we look at Junior certificate results where a=1,B =2 etc.. the data results from 2016 fit to a normal distribution curve, hence I will take mu = 2.5  in a normal distribution curve\n",
    "\n",
    "\n",
    "jc = np.random.normal(1.8,.2,300).round(0) \n",
    "# We can set up a normal random amount of levels for 300 students where A =0,B = 1,C =2, D =3\n",
    "# As we can see from the 2016 the mean result is a  B/C"
   ]
  },
  {
   "cell_type": "code",
   "execution_count": 11,
   "metadata": {},
   "outputs": [
    {
     "data": {
      "text/plain": [
       "array([2, 2, 1, 0, 2, 0, 1, 0, 2, 2, 0, 2, 2, 0, 0, 3, 3, 0, 0, 2, 0, 3,\n",
       "       0, 2, 3, 1, 0, 1, 0, 1, 3, 1, 0, 2, 0, 3, 1, 2, 1, 1, 2, 3, 1, 3,\n",
       "       2, 3, 3, 1, 1, 1, 2, 2, 0, 2, 0, 1, 0, 0, 0, 1, 2, 2, 1, 2, 0, 1,\n",
       "       3, 3, 2, 2, 1, 0, 1, 1, 1, 3, 0, 2, 3, 2, 2, 3, 1, 2, 3, 2, 1, 1,\n",
       "       1, 1, 3, 0, 1, 0, 2, 1, 0, 3, 1, 1, 2, 3, 1, 0, 3, 3, 0, 3, 1, 1,\n",
       "       1, 3, 0, 1, 0, 0, 3, 2, 2, 1, 1, 0, 2, 2, 1, 2, 0, 1, 0, 0, 0, 2,\n",
       "       2, 0, 3, 0, 0, 2, 1, 2, 3, 3, 1, 1, 0, 2, 0, 0, 1, 1, 1, 2, 1, 0,\n",
       "       2, 0, 0, 2, 2, 1, 0, 1, 0, 3, 3, 1, 3, 2, 0, 0, 3, 3, 2, 1, 2, 3,\n",
       "       1, 0, 3, 3, 0, 1, 3, 0, 2, 3, 3, 1, 1, 2, 1, 1, 2, 1, 1, 3, 3, 1,\n",
       "       2, 3, 2, 3, 2, 2, 2, 3, 1, 2, 1, 1, 1, 1, 2, 2, 2, 0, 0, 0, 1, 0,\n",
       "       3, 0, 1, 3, 1, 0, 1, 2, 3, 3, 1, 3, 3, 3, 1, 1, 0, 1, 3, 1, 0, 2,\n",
       "       2, 3, 0, 0, 1, 3, 1, 2, 1, 1, 3, 0, 0, 3, 3, 2, 2, 0, 1, 0, 0, 0,\n",
       "       0, 3, 1, 0, 0, 1, 3, 1, 0, 1, 2, 3, 3, 0, 2, 1, 0, 1, 1, 3, 3, 3,\n",
       "       1, 0, 3, 1, 3, 0, 1, 0, 2, 0, 0, 3, 3, 1])"
      ]
     },
     "execution_count": 11,
     "metadata": {},
     "output_type": "execute_result"
    }
   ],
   "source": [
    " jc\n",
    "    # We can view jc\n",
    "    "
   ]
  },
  {
   "cell_type": "code",
   "execution_count": 13,
   "metadata": {},
   "outputs": [],
   "source": [
    "Ages = np.random.normal(18, 1, 300).round(0)\n",
    " # The majority of these students at Leaving certificate are 18.We again pick a normal distribution with a mean of 18"
   ]
  },
  {
   "cell_type": "code",
   "execution_count": 14,
   "metadata": {},
   "outputs": [
    {
     "data": {
      "text/plain": [
       "array([19., 18., 20., 17., 19., 17., 17., 18., 17., 17., 20., 18., 19.,\n",
       "       20., 20., 18., 18., 20., 16., 19., 18., 18., 19., 18., 19., 18.,\n",
       "       17., 18., 17., 17., 18., 18., 20., 18., 20., 20., 19., 17., 16.,\n",
       "       19., 17., 17., 19., 18., 18., 18., 16., 19., 17., 15., 20., 17.,\n",
       "       17., 19., 18., 18., 17., 18., 18., 19., 18., 19., 18., 18., 18.,\n",
       "       18., 18., 17., 17., 18., 18., 19., 17., 17., 19., 18., 17., 16.,\n",
       "       19., 18., 19., 17., 17., 18., 18., 16., 17., 18., 18., 18., 18.,\n",
       "       19., 18., 17., 16., 19., 18., 17., 17., 16., 17., 20., 17., 18.,\n",
       "       19., 20., 17., 19., 18., 18., 19., 17., 18., 18., 20., 16., 17.,\n",
       "       17., 18., 20., 17., 16., 18., 17., 18., 17., 18., 18., 17., 16.,\n",
       "       17., 18., 18., 18., 17., 16., 19., 20., 18., 19., 18., 18., 18.,\n",
       "       18., 18., 17., 18., 18., 18., 20., 17., 17., 19., 19., 17., 16.,\n",
       "       18., 17., 19., 20., 17., 18., 18., 17., 19., 18., 19., 17., 17.,\n",
       "       18., 16., 18., 19., 17., 17., 17., 16., 18., 18., 19., 19., 17.,\n",
       "       18., 19., 17., 18., 18., 18., 19., 17., 19., 18., 19., 20., 18.,\n",
       "       18., 19., 19., 18., 19., 19., 20., 18., 18., 16., 19., 19., 18.,\n",
       "       17., 18., 16., 17., 17., 18., 20., 18., 18., 17., 16., 18., 19.,\n",
       "       18., 19., 19., 18., 18., 18., 19., 17., 18., 19., 18., 19., 19.,\n",
       "       17., 18., 17., 19., 18., 18., 19., 18., 18., 18., 18., 18., 18.,\n",
       "       18., 18., 18., 19., 18., 18., 19., 18., 19., 21., 18., 17., 17.,\n",
       "       19., 18., 17., 18., 18., 17., 19., 19., 19., 19., 17., 17., 17.,\n",
       "       17., 18., 17., 19., 17., 19., 19., 15., 20., 18., 18., 17., 19.,\n",
       "       18., 17., 17., 17., 16., 18., 18., 18., 18., 20., 18., 19., 17.,\n",
       "       20.])"
      ]
     },
     "execution_count": 14,
     "metadata": {},
     "output_type": "execute_result"
    }
   ],
   "source": [
    "Ages\n",
    "\n",
    " # r = np.random.normal(m, s, size=N) ? np.random.normal(250, 1, 100).round(0)\n",
    " # r = np.random.randn(N)  # mean=0, std.dev.=1 ?\n"
   ]
  },
  {
   "cell_type": "code",
   "execution_count": null,
   "metadata": {},
   "outputs": [],
   "source": [
    "# Leaving certificate ressults are linked to Junior Certificate results .each level at leaving certificate has a different possibiilty ."
   ]
  },
  {
   "cell_type": "code",
   "execution_count": null,
   "metadata": {},
   "outputs": [],
   "source": [
    "# Another variable that may affect results is parental education level/"
   ]
  },
  {
   "cell_type": "code",
   "execution_count": null,
   "metadata": {},
   "outputs": [],
   "source": []
  },
  {
   "cell_type": "code",
   "execution_count": null,
   "metadata": {},
   "outputs": [],
   "source": []
  }
 ],
 "metadata": {
  "kernelspec": {
   "display_name": "Python 3",
   "language": "python",
   "name": "python3"
  },
  "language_info": {
   "codemirror_mode": {
    "name": "ipython",
    "version": 3
   },
   "file_extension": ".py",
   "mimetype": "text/x-python",
   "name": "python",
   "nbconvert_exporter": "python",
   "pygments_lexer": "ipython3",
   "version": "3.7.3"
  }
 },
 "nbformat": 4,
 "nbformat_minor": 4
}
