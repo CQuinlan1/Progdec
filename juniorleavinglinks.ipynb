{
 "cells": [
  {
   "cell_type": "code",
   "execution_count": null,
   "metadata": {},
   "outputs": [],
   "source": [
    "\n"
   ]
  },
  {
   "cell_type": "markdown",
   "metadata": {},
   "source": [
    "Project for module Programming in Data Analytics due date 13th December 2019"
   ]
  },
  {
   "cell_type": "markdown",
   "metadata": {},
   "source": [
    "Created by Catherine A Celeste Quinlan"
   ]
  },
  {
   "cell_type": "markdown",
   "metadata": {},
   "source": [
    "To create a simulated data set based on a real life phenomenon using NUMPY.RANDOM , set it in a dataframe, and use this to show the different relationships."
   ]
  },
  {
   "cell_type": "markdown",
   "metadata": {},
   "source": [
    "I chose to look at the relationship between Higher Level Junior Certificate and Leaving Certificateand variables "
   ]
  },
  {
   "cell_type": "code",
   "execution_count": 26,
   "metadata": {},
   "outputs": [],
   "source": [
    "%matplotlib notebook\n",
    "import matplotlib.pyplot as plt\n",
    "import numpy as np\n",
    "import seaborn as sb\n",
    "import pandas as pd\n",
    "\n",
    "# I import the functions I think I will be using later\n"
   ]
  },
  {
   "cell_type": "code",
   "execution_count": 17,
   "metadata": {},
   "outputs": [],
   "source": []
  },
  {
   "cell_type": "code",
   "execution_count": null,
   "metadata": {},
   "outputs": [],
   "source": [
    " \n",
    "    "
   ]
  },
  {
   "cell_type": "code",
   "execution_count": 17,
   "metadata": {},
   "outputs": [],
   "source": [
    "jcert = np.random.choice(['A', 'B','C', 'D'], size=300) #  Here Im assuming that we have an equal chance of a student getting any of the grades"
   ]
  },
  {
   "cell_type": "code",
   "execution_count": 18,
   "metadata": {},
   "outputs": [
    {
     "data": {
      "text/plain": [
       "array(['B', 'B', 'B', 'C', 'B', 'C', 'B', 'A', 'A', 'C', 'D', 'C', 'D',\n",
       "       'B', 'C', 'A', 'C', 'A', 'B', 'A', 'C', 'D', 'A', 'C', 'D', 'D',\n",
       "       'D', 'D', 'C', 'C', 'B', 'C', 'D', 'C', 'D', 'B', 'D', 'B', 'C',\n",
       "       'A', 'C', 'A', 'C', 'B', 'C', 'A', 'B', 'C', 'A', 'C', 'B', 'D',\n",
       "       'B', 'A', 'C', 'A', 'B', 'C', 'A', 'A', 'C', 'C', 'A', 'A', 'B',\n",
       "       'D', 'D', 'D', 'A', 'D', 'D', 'C', 'D', 'A', 'C', 'A', 'B', 'A',\n",
       "       'A', 'D', 'C', 'B', 'A', 'D', 'A', 'B', 'D', 'B', 'A', 'B', 'A',\n",
       "       'B', 'A', 'A', 'D', 'B', 'A', 'A', 'A', 'C', 'B', 'A', 'A', 'A',\n",
       "       'C', 'B', 'A', 'D', 'D', 'C', 'D', 'A', 'C', 'A', 'D', 'C', 'B',\n",
       "       'B', 'C', 'A', 'D', 'B', 'D', 'D', 'A', 'A', 'D', 'B', 'A', 'D',\n",
       "       'B', 'C', 'C', 'D', 'D', 'B', 'C', 'C', 'C', 'A', 'B', 'B', 'B',\n",
       "       'C', 'D', 'A', 'C', 'A', 'C', 'D', 'A', 'B', 'B', 'A', 'C', 'C',\n",
       "       'A', 'D', 'D', 'B', 'D', 'B', 'C', 'B', 'A', 'C', 'C', 'D', 'B',\n",
       "       'A', 'C', 'D', 'A', 'A', 'C', 'B', 'D', 'D', 'C', 'B', 'D', 'C',\n",
       "       'A', 'D', 'B', 'D', 'A', 'C', 'B', 'A', 'C', 'A', 'D', 'D', 'B',\n",
       "       'B', 'C', 'C', 'B', 'C', 'B', 'D', 'B', 'D', 'A', 'B', 'B', 'A',\n",
       "       'D', 'B', 'D', 'C', 'B', 'A', 'C', 'D', 'D', 'D', 'C', 'D', 'A',\n",
       "       'B', 'B', 'A', 'C', 'B', 'A', 'A', 'C', 'D', 'A', 'B', 'B', 'C',\n",
       "       'D', 'D', 'A', 'D', 'B', 'C', 'D', 'B', 'A', 'B', 'C', 'B', 'D',\n",
       "       'A', 'A', 'A', 'C', 'C', 'C', 'A', 'B', 'D', 'C', 'A', 'A', 'A',\n",
       "       'A', 'C', 'C', 'B', 'A', 'B', 'B', 'A', 'A', 'B', 'C', 'C', 'B',\n",
       "       'B', 'B', 'B', 'D', 'C', 'C', 'B', 'B', 'A', 'A', 'B', 'A', 'A',\n",
       "       'C', 'B', 'C', 'D', 'D', 'C', 'B', 'B', 'C', 'B', 'C', 'C', 'B',\n",
       "       'A'], dtype='<U1')"
      ]
     },
     "execution_count": 18,
     "metadata": {},
     "output_type": "execute_result"
    }
   ],
   "source": [
    "jcert"
   ]
  },
  {
   "cell_type": "code",
   "execution_count": 12,
   "metadata": {},
   "outputs": [],
   "source": [
    "Ages = np.random.normal(18, 1, 300).round(0)\n",
    " # The majority of these students at Leaving certificate are 18.We again pick a normal distribution with a mean of 18 and a standard deviation of 1."
   ]
  },
  {
   "cell_type": "code",
   "execution_count": null,
   "metadata": {},
   "outputs": [],
   "source": []
  },
  {
   "cell_type": "code",
   "execution_count": 13,
   "metadata": {},
   "outputs": [
    {
     "data": {
      "text/plain": [
       "array([18., 18., 18., 18., 19., 18., 19., 17., 17., 18., 18., 18., 17.,\n",
       "       19., 18., 16., 18., 16., 17., 18., 18., 18., 18., 20., 18., 18.,\n",
       "       19., 18., 19., 19., 19., 17., 17., 17., 18., 20., 19., 18., 18.,\n",
       "       19., 19., 17., 18., 19., 20., 18., 18., 17., 18., 20., 20., 18.,\n",
       "       18., 18., 19., 16., 19., 18., 18., 19., 17., 17., 18., 18., 18.,\n",
       "       19., 21., 19., 19., 18., 19., 19., 20., 17., 20., 16., 19., 17.,\n",
       "       18., 18., 18., 18., 18., 19., 18., 19., 17., 18., 19., 18., 18.,\n",
       "       19., 20., 18., 19., 19., 19., 19., 17., 19., 20., 17., 19., 19.,\n",
       "       17., 18., 18., 18., 17., 20., 18., 18., 18., 18., 17., 18., 19.,\n",
       "       17., 19., 19., 18., 19., 17., 18., 18., 17., 19., 18., 18., 17.,\n",
       "       17., 18., 17., 18., 18., 16., 18., 18., 18., 19., 19., 16., 17.,\n",
       "       18., 19., 19., 16., 19., 18., 17., 19., 20., 19., 16., 18., 18.,\n",
       "       18., 17., 19., 16., 17., 18., 18., 17., 17., 18., 17., 18., 18.,\n",
       "       18., 19., 16., 17., 17., 17., 16., 15., 18., 19., 18., 17., 18.,\n",
       "       18., 18., 17., 19., 19., 17., 18., 18., 18., 18., 17., 18., 19.,\n",
       "       19., 17., 18., 17., 18., 18., 18., 18., 19., 18., 19., 17., 18.,\n",
       "       17., 18., 17., 19., 18., 19., 17., 18., 18., 19., 19., 18., 19.,\n",
       "       19., 18., 17., 18., 16., 18., 19., 19., 18., 18., 17., 18., 19.,\n",
       "       18., 18., 18., 19., 19., 16., 18., 19., 19., 17., 19., 18., 18.,\n",
       "       16., 17., 19., 19., 18., 17., 17., 16., 17., 17., 17., 17., 20.,\n",
       "       16., 18., 17., 17., 18., 19., 17., 17., 19., 16., 17., 18., 18.,\n",
       "       18., 17., 18., 19., 19., 16., 17., 18., 18., 18., 17., 20., 18.,\n",
       "       18., 17., 18., 21., 18., 18., 18., 18., 18., 22., 18., 19., 19.,\n",
       "       19.])"
      ]
     },
     "execution_count": 13,
     "metadata": {},
     "output_type": "execute_result"
    }
   ],
   "source": [
    "Ages\n",
    "\n"
   ]
  },
  {
   "cell_type": "code",
   "execution_count": 14,
   "metadata": {},
   "outputs": [],
   "source": [
    "# Creating an array of male and female for the 300\n",
    "gender = np.random.choice(['male', 'female'], size=300)"
   ]
  },
  {
   "cell_type": "code",
   "execution_count": 15,
   "metadata": {},
   "outputs": [
    {
     "data": {
      "text/plain": [
       "array(['female', 'male', 'male', 'female', 'male', 'female', 'female',\n",
       "       'female', 'male', 'male', 'male', 'female', 'female', 'female',\n",
       "       'female', 'male', 'female', 'female', 'female', 'male', 'male',\n",
       "       'female', 'female', 'male', 'female', 'male', 'male', 'female',\n",
       "       'male', 'male', 'female', 'female', 'male', 'female', 'female',\n",
       "       'male', 'female', 'male', 'female', 'male', 'female', 'male',\n",
       "       'male', 'male', 'male', 'male', 'female', 'male', 'female', 'male',\n",
       "       'male', 'male', 'female', 'female', 'male', 'male', 'male', 'male',\n",
       "       'male', 'male', 'female', 'female', 'female', 'female', 'female',\n",
       "       'female', 'male', 'male', 'male', 'female', 'male', 'male',\n",
       "       'female', 'female', 'male', 'female', 'male', 'male', 'female',\n",
       "       'male', 'male', 'female', 'female', 'female', 'female', 'female',\n",
       "       'male', 'male', 'female', 'female', 'male', 'female', 'female',\n",
       "       'female', 'male', 'female', 'female', 'male', 'male', 'male',\n",
       "       'male', 'male', 'female', 'female', 'male', 'male', 'female',\n",
       "       'female', 'female', 'female', 'female', 'male', 'male', 'female',\n",
       "       'male', 'female', 'female', 'male', 'male', 'female', 'female',\n",
       "       'male', 'male', 'female', 'female', 'female', 'female', 'female',\n",
       "       'male', 'male', 'female', 'female', 'male', 'female', 'female',\n",
       "       'male', 'female', 'female', 'male', 'male', 'male', 'female',\n",
       "       'female', 'female', 'female', 'male', 'male', 'male', 'male',\n",
       "       'female', 'female', 'male', 'male', 'male', 'male', 'female',\n",
       "       'male', 'female', 'male', 'female', 'female', 'female', 'female',\n",
       "       'male', 'female', 'male', 'female', 'male', 'male', 'female',\n",
       "       'male', 'female', 'male', 'male', 'female', 'female', 'male',\n",
       "       'male', 'male', 'female', 'male', 'male', 'female', 'female',\n",
       "       'male', 'female', 'female', 'female', 'male', 'female', 'female',\n",
       "       'male', 'female', 'female', 'female', 'female', 'male', 'male',\n",
       "       'female', 'female', 'male', 'female', 'male', 'female', 'male',\n",
       "       'female', 'male', 'male', 'female', 'female', 'male', 'female',\n",
       "       'female', 'female', 'female', 'female', 'female', 'female', 'male',\n",
       "       'male', 'male', 'female', 'female', 'female', 'male', 'male',\n",
       "       'female', 'male', 'male', 'female', 'male', 'female', 'male',\n",
       "       'male', 'female', 'male', 'female', 'male', 'male', 'male', 'male',\n",
       "       'male', 'female', 'female', 'male', 'female', 'female', 'male',\n",
       "       'male', 'male', 'male', 'female', 'male', 'female', 'female',\n",
       "       'female', 'male', 'male', 'female', 'female', 'male', 'female',\n",
       "       'female', 'male', 'female', 'male', 'male', 'male', 'male', 'male',\n",
       "       'female', 'female', 'male', 'female', 'male', 'male', 'male',\n",
       "       'female', 'male', 'female', 'male', 'male', 'male', 'male', 'male',\n",
       "       'male', 'male', 'female', 'female', 'male', 'male', 'male',\n",
       "       'female', 'female', 'female', 'male', 'female', 'female', 'male',\n",
       "       'male'], dtype='<U6')"
      ]
     },
     "execution_count": 15,
     "metadata": {},
     "output_type": "execute_result"
    }
   ],
   "source": [
    "gender\n"
   ]
  },
  {
   "cell_type": "markdown",
   "metadata": {},
   "source": [
    " Leaving certificate results are linked to Junior Certificate results . Each level at leaving Certificate  having a different possibiilty and different per gender."
   ]
  },
  {
   "cell_type": "code",
   "execution_count": null,
   "metadata": {},
   "outputs": [],
   "source": [
    "#"
   ]
  },
  {
   "cell_type": "code",
   "execution_count": null,
   "metadata": {},
   "outputs": [],
   "source": [
    "# "
   ]
  },
  {
   "cell_type": "code",
   "execution_count": 24,
   "metadata": {},
   "outputs": [
    {
     "data": {
      "text/html": [
       "<div>\n",
       "<style scoped>\n",
       "    .dataframe tbody tr th:only-of-type {\n",
       "        vertical-align: middle;\n",
       "    }\n",
       "\n",
       "    .dataframe tbody tr th {\n",
       "        vertical-align: top;\n",
       "    }\n",
       "\n",
       "    .dataframe thead th {\n",
       "        text-align: right;\n",
       "    }\n",
       "</style>\n",
       "<table border=\"1\" class=\"dataframe\">\n",
       "  <thead>\n",
       "    <tr style=\"text-align: right;\">\n",
       "      <th></th>\n",
       "      <th>Age 2019</th>\n",
       "      <th>Gender</th>\n",
       "      <th>Junior Cert H Level Maths results</th>\n",
       "    </tr>\n",
       "  </thead>\n",
       "  <tbody>\n",
       "    <tr>\n",
       "      <th>0</th>\n",
       "      <td>18.0</td>\n",
       "      <td>female</td>\n",
       "      <td>B</td>\n",
       "    </tr>\n",
       "    <tr>\n",
       "      <th>1</th>\n",
       "      <td>18.0</td>\n",
       "      <td>male</td>\n",
       "      <td>B</td>\n",
       "    </tr>\n",
       "    <tr>\n",
       "      <th>2</th>\n",
       "      <td>18.0</td>\n",
       "      <td>male</td>\n",
       "      <td>B</td>\n",
       "    </tr>\n",
       "    <tr>\n",
       "      <th>3</th>\n",
       "      <td>18.0</td>\n",
       "      <td>female</td>\n",
       "      <td>C</td>\n",
       "    </tr>\n",
       "    <tr>\n",
       "      <th>4</th>\n",
       "      <td>19.0</td>\n",
       "      <td>male</td>\n",
       "      <td>B</td>\n",
       "    </tr>\n",
       "  </tbody>\n",
       "</table>\n",
       "</div>"
      ],
      "text/plain": [
       "   Age 2019  Gender Junior Cert H Level Maths results\n",
       "0      18.0  female                                 B\n",
       "1      18.0    male                                 B\n",
       "2      18.0    male                                 B\n",
       "3      18.0  female                                 C\n",
       "4      19.0    male                                 B"
      ]
     },
     "execution_count": 24,
     "metadata": {},
     "output_type": "execute_result"
    }
   ],
   "source": [
    "# Creating the dataframe with the simulated data \n",
    "from pandas import DataFrame\n",
    "df = pd.DataFrame({'Age 2019': Ages,'Gender': gender,'Junior Cert H Level Maths results': jcert} )\n",
    "df.head()"
   ]
  },
  {
   "cell_type": "code",
   "execution_count": null,
   "metadata": {},
   "outputs": [],
   "source": []
  },
  {
   "cell_type": "code",
   "execution_count": null,
   "metadata": {},
   "outputs": [],
   "source": []
  }
 ],
 "metadata": {
  "kernelspec": {
   "display_name": "Python 3",
   "language": "python",
   "name": "python3"
  },
  "language_info": {
   "codemirror_mode": {
    "name": "ipython",
    "version": 3
   },
   "file_extension": ".py",
   "mimetype": "text/x-python",
   "name": "python",
   "nbconvert_exporter": "python",
   "pygments_lexer": "ipython3",
   "version": "3.7.3"
  }
 },
 "nbformat": 4,
 "nbformat_minor": 4
}
