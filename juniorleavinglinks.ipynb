{
 "cells": [
  {
   "cell_type": "code",
   "execution_count": null,
   "metadata": {},
   "outputs": [],
   "source": [
    "\n"
   ]
  },
  {
   "cell_type": "markdown",
   "metadata": {},
   "source": [
    "Project for module Programming in Data Analytics due date 13th December 2019"
   ]
  },
  {
   "cell_type": "markdown",
   "metadata": {},
   "source": [
    "Created by Catherine A Celeste Quinlan"
   ]
  },
  {
   "cell_type": "markdown",
   "metadata": {},
   "source": [
    "To create a simulated data set based on a real life phenomenon using NUMPY.RANDOM , set it in a dataframe, and use this to show the different relationships."
   ]
  },
  {
   "cell_type": "markdown",
   "metadata": {},
   "source": [
    "I chose to look at the relationship between Higher Level Junior Certificate and Leaving Certificate and variables that may influence a student's performance in Higher Level Maths.   "
   ]
  },
  {
   "cell_type": "code",
   "execution_count": 59,
   "metadata": {},
   "outputs": [],
   "source": [
    "%matplotlib notebook\n",
    "import matplotlib.pyplot as plt\n",
    "import numpy as np\n",
    "import seaborn as sb\n",
    "import pandas as pd\n",
    "\n",
    "\n",
    "# I import the functions I think I will be using later\n"
   ]
  },
  {
   "cell_type": "code",
   "execution_count": null,
   "metadata": {},
   "outputs": [],
   "source": []
  },
  {
   "cell_type": "code",
   "execution_count": null,
   "metadata": {},
   "outputs": [],
   "source": [
    " \n",
    "    "
   ]
  },
  {
   "cell_type": "code",
   "execution_count": null,
   "metadata": {},
   "outputs": [],
   "source": [
    "jcert = np.random.choice(['A', 'B','C', 'D'], size=300) #  Here Im assuming that we have an equal chance of a student getting any of the grades"
   ]
  },
  {
   "cell_type": "code",
   "execution_count": null,
   "metadata": {},
   "outputs": [],
   "source": [
    "jcert"
   ]
  },
  {
   "cell_type": "code",
   "execution_count": null,
   "metadata": {},
   "outputs": [],
   "source": [
    "Ages = np.random.normal(18, 1, 300).round(0)\n",
    " # The majority of these students at Leaving certificate are 18.We again pick a normal distribution with a mean of 18 and a standard deviation of 1. I chose a normal distribution here as the majority of students doing the leaving has a mean of 18.I am making the assumption of a stardard deviation of 1, as some students are either 1 year above or below. "
   ]
  },
  {
   "cell_type": "code",
   "execution_count": null,
   "metadata": {},
   "outputs": [],
   "source": []
  },
  {
   "cell_type": "code",
   "execution_count": null,
   "metadata": {},
   "outputs": [],
   "source": [
    "Ages\n",
    "\n"
   ]
  },
  {
   "cell_type": "code",
   "execution_count": null,
   "metadata": {},
   "outputs": [],
   "source": [
    "# Creating an array of male and female for the 300\n",
    "gender = np.random.choice(['male', 'female'], size=300)"
   ]
  },
  {
   "cell_type": "code",
   "execution_count": null,
   "metadata": {},
   "outputs": [],
   "source": [
    "gender\n"
   ]
  },
  {
   "cell_type": "markdown",
   "metadata": {},
   "source": [
    " Leaving certificate results are linked to Junior Certificate results . Each level at leaving Certificate  having a different possibiilty and different per gender."
   ]
  },
  {
   "cell_type": "code",
   "execution_count": null,
   "metadata": {},
   "outputs": [],
   "source": [
    "# The average  homework time per week for students in Ireland was 6 hours with a variation of 2-3 hours\n",
    "hw = np.random.normal(6, 2, 300).round(0)"
   ]
  },
  {
   "cell_type": "code",
   "execution_count": null,
   "metadata": {},
   "outputs": [],
   "source": [
    "hw\n",
    "#  I will decide later if I use this as some numbers appea\n",
    "# The average  homework time per week for students in Ireland was 6 hours with a variation of 2-3 hours\n",
    "#red negative "
   ]
  },
  {
   "cell_type": "markdown",
   "metadata": {},
   "source": [
    "# Real Data:"
   ]
  },
  {
   "cell_type": "markdown",
   "metadata": {},
   "source": [
    "The data is from real data information held on the examinations website.I looked at the Junior Certificate result 2016 and Leaving Certificate results 2019.For our data I disregarded the students who achieve"
   ]
  },
  {
   "cell_type": "markdown",
   "metadata": {},
   "source": [
    "Assumptions:"
   ]
  },
  {
   "cell_type": "markdown",
   "metadata": {},
   "source": [
    "For our data I disregarded the students who achieved less than a D in higher in the Junior certificate for the purpose of this particular investigatio into a similar synthesised dataset. One would expect a solid Foundation at Junior Cycle to be able to proceed with the Higher level course to Leaving Certificate."
   ]
  },
  {
   "cell_type": "markdown",
   "metadata": {},
   "source": [
    "I have also assumed that they grauaded on to the higher level quite evenly .I am not at the moment assuming outliers such as D in Junior Certificate staying in to do Higher and passing."
   ]
  },
  {
   "cell_type": "code",
   "execution_count": null,
   "metadata": {},
   "outputs": [],
   "source": [
    "# Real data taken from www.examinations.ie\n",
    " #    TOTAL FEMALE Higher Math Leaving cert ={332,844,150,2132,2074,1323,482,139}\n",
    "  #   TOTAL MALE = Higher Math Leaving cert {766,1180,158,1963,1873,1274,496,183}\n",
    "  #  jc     TOTAL FEMALE= {1743,5403,5654,3370,468,52,1}\n",
    "   #     TOTAL MALE= {2112,4962,5179,3248,565,72,1}\n",
    "\n",
    "# intialise data of lists. \n",
    "data1 = {'JC Grades 2016':[\"A\", \"B\", \"C\", \"D\",\"E\",\"F\",\"NG\",\"Total\"],\n",
    "        'TOTAL MALE Higher Maths Junior cert':[ 2112, 4962, 5179, 3248, 565, 72, 1,16139],\n",
    "        'TOTAL FEMALE Higher Maths Junior cert':[ 1743, 5403, 5654, 3370, 468, 52, 1, 16691]} \n",
    "data2 = {'LC Grades 2019':['H1', 'H2', 'H3', 'H4','H5','H6','H7','H8','Total'],    \n",
    "        'TOTAL MALE Higher Math Leaving cert':[766, 1180, 158, 1963, 1873, 1274, 496, 183,9323],\n",
    "        'TOTAL FEMALE Higher Math Leaving cert':[ 332, 844, 150, 2132, 2074, 1323, 482, 139,8830]}\n",
    "  \n",
    "\n",
    "    \n",
    "    # Create DataFrame\n",
    "df1 = pd.DataFrame(data1) \n",
    "df2 = pd.DataFrame(data2)\n",
    "\n",
    "def side_by_side(*objs, **kwds): # Adapted from https://stackoverflow.com/questions/35790922/how-to-render-two-pd-dataframes-in-jupyter-notebook-side-by-side\n",
    "    ''' Une fonction print objects side by side '''\n",
    "    from pandas.io.formats.printing import adjoin\n",
    "    space = kwds.get('space', 4)\n",
    "    reprs = [repr(obj).split('\\n') for obj in objs]\n",
    "    print(adjoin(space, *reprs))\n",
    "\n",
    "# Print the output.\n",
    "side_by_side(df1,df2)\n",
    "\n",
    "\n"
   ]
  },
  {
   "cell_type": "markdown",
   "metadata": {},
   "source": [
    "WThen the remaining 1o63 candidates we can assume come from the 5654 candidates who achieved C in the Junior certificate,leaving 4591 candidates who achieved C at junior not attempting/not passing higher Level.\n",
    "So for females:\n",
    "I will asuume 100% probability of them doing Higher Leaving Certificate if a female achieves an A or B in Junior Certificate. However,only a 1063/5654 (18.8%) chance if they achieved a C."
   ]
  },
  {
   "cell_type": "markdown",
   "metadata": {},
   "source": [
    "So we can deduct from above , taking into account the authentic data above that roughly half those who do Higher level at Junior Certificate do Higher for Leaving certificate. We note that for Females doing the Junior Certificate, we will assume that those with the highest levels do it for the Leaving .Then of the 8,830 females at higher LC we will deduct those at H7 and H8, so those who pass at HL in Leaving certificate would be 8209.e can see from the Then those females candidates who got an Hi (332) in Higher Level would have come from 100% those who achieved an A(1743) at Higher level Junior Certificate. Next 844 candidates would include those who got A, and also H3.Even 417 out of the 2132 in the H4 bracket are still from an A in Jnior certificate."
   ]
  },
  {
   "cell_type": "markdown",
   "metadata": {},
   "source": [
    "Thus I need to say, A in Jc has an equal probability of getting a H1,H2 or H3 and 1/4 (417/2132) chance of getting a H4. \n",
    "That is, an A in Jc for a female , she will have a 31.7% chance of getting a H1,H2, or H3 at leaving or a 4.9% chance of a H4"
   ]
  },
  {
   "cell_type": "markdown",
   "metadata": {},
   "source": [
    "For a B in Junior Certificate, with 5403  female students, this completes the 1717 left at H4, 1323 at H5, 482 at H6 and 291 would end with a H7 ."
   ]
  },
  {
   "cell_type": "markdown",
   "metadata": {},
   "source": [
    "With female students with a C, 5464, we can see 191 of those witha H7 came from those with a C, and 139 of the H8 could have come under our assumptions from the Junior certificate C.Thus our probabilities will be  2.5% of someone getting a Cand gettign a H8,3.5% of a H7, and 94% of doing Ordinary Level in the Leaving."
   ]
  },
  {
   "cell_type": "markdown",
   "metadata": {},
   "source": [
    "For males students I will work in the same manner.The 9323 Leaving candidates less those who achieved a H7 or H8.9323-679=8644.These 8644 we can assume it is made of As(2112),Bs(4962)and 1570 of those who got Cs.That is 100% of those with an A or B in Higher and 1570/5179 (30.3%) of those whose got a C.\n",
    "\n"
   ]
  },
  {
   "cell_type": "code",
   "execution_count": null,
   "metadata": {},
   "outputs": [],
   "source": [
    "# leaving Certificate results dependent on jc.\n",
    "# if female and C or D then O for Ordinary level\n",
    "#  if female and A or B then A-D\n",
    "# if male and D then Ordinary level\n",
    "# if male and ABC then A-D\n",
    "\n",
    "\n",
    "Ordinary = [\n",
    "  lambda x: (x['gender'] == female) and (x['jcert'] == C or D) or\n",
    "   (x['gender'] == male) and (x['jcert'] == D) \n",
    "]\n",
    "\n",
    "def group_by_condition(l, Ordinary):\n",
    "    return [[item for item in l if Ordinary(item)] for Ordinary in conditions]\n",
    "\n",
    "# [] = group_by_Ordinary( Ordinary1)\n",
    "\n"
   ]
  },
  {
   "cell_type": "code",
   "execution_count": null,
   "metadata": {},
   "outputs": [],
   "source": [
    "  df['Leaving certificate'] = df.apply('jcert') (lambda \n",
    "                            , axis = 1) \n",
    "    \n"
   ]
  },
  {
   "cell_type": "code",
   "execution_count": null,
   "metadata": {},
   "outputs": [],
   "source": [
    "# Creating the dataframe with the simulated data \\n\n",
    "from pandas import DataFrame\n",
    "df3 = pd.DataFrame({'Age 2019': Ages,'Gender': gender,'Junior Cert H Level Maths results': jcert,'Hours spent on homework per week': hw} )\n",
    "df3.head()"
   ]
  },
  {
   "cell_type": "code",
   "execution_count": null,
   "metadata": {},
   "outputs": [],
   "source": [
    "\n",
    "\n",
    "df4.loc[df3['Junior Cert H Level Maths results'] == 'A', 'Leaving cert H Level Maths'] = 'H1'\n",
    "\n",
    "df4.loc[df3['Junior Cert H Level Maths results'] == 'B', 'Leaving cert H Level Maths'] = 'H2' \n",
    "df4.loc[df3['Junior Cert H Level Maths results'] == 'C', 'Leaving cert H Level Maths'] = 'H3'\n",
    "df4.loc[df3['Junior Cert H Level Maths results'] == 'D', 'Leaving cert H Level Maths'] = 'Ord'\n",
    "#  # adapted from https://datatofish.com/if-condition-in-pandas-dataframe/\n",
    "# I had looked at transform and apply functions too .\n",
    "\n",
    "#  I  am plcking a value under Leaving cert H Level Maths dependent on the value in Junior cert H Level Math results.                                    \n"
   ]
  },
  {
   "cell_type": "code",
   "execution_count": null,
   "metadata": {},
   "outputs": [],
   "source": [
    "df4"
   ]
  },
  {
   "cell_type": "markdown",
   "metadata": {},
   "source": [
    "Here we can see the values for Leaving Certificate if they were a certain value following the Junior Certificate. However, they are dependent on diffrent probabilities.\n"
   ]
  },
  {
   "cell_type": "code",
   "execution_count": null,
   "metadata": {},
   "outputs": [],
   "source": [
    "\n",
    "\n",
    "\n",
    "\n",
    "\n",
    "\n",
    "      \n",
    "Leaving_cert_H_Level_Maths1 = ['H1','H2','H3','H4'] \n",
    "Leaving_cert_H_Level_Maths2 = ['H4','H5','H6','H7'] \n",
    "Leaving_cert_H_Level_Maths3 = ['H7','H8','Ord',] \n",
    "\n",
    "\n",
    "  #  np.random.choice( Leaving_cert_H_Level_Maths1, 1, p=[0.32, 0.32, 0.32, 0.04])\n",
    " #  \n",
    "\n",
    "# df4 = pd.DataFrame({'Age 2019': Ages,'Gender': gender,'Junior Cert H Level Maths results': jcert,'Leaving cert H Level Maths':} )\n",
    "\n",
    "\n",
    "df4.loc[df4['Junior Cert H Level Maths results'] == 'A', 'Leaving cert H Level Maths'] = np.random.choice( Leaving_cert_H_Level_Maths1, 1, p=[0.32, 0.32, 0.32, 0.04])\n",
    "#  adapting fromhttps://docs.scipy.org/doc/numpy-1.15.0/reference/generated/numpy.random.choice.html#numpy.random.choice\n",
    "# Here I am making the value from leaving certificate maths come from choice, with the probabilities that I have calculated.\n",
    "df4.loc[df4['Junior Cert H Level Maths results'] == 'B', 'Leaving cert H Level Maths'] = np.random.choice( Leaving_cert_H_Level_Maths2, 1, p=[0.20, 0.325, 0.325, 0.15])\n",
    " \n",
    "df4.loc[df4['Junior Cert H Level Maths results'] == 'C', 'Leaving cert H Level Maths'] = np.random.choice( Leaving_cert_H_Level_Maths3, 1, p=[0.035, 0.025, 0.94])\n",
    "\n",
    "df4.loc[df4['Junior Cert H Level Maths results'] == 'D', 'Leaving cert H Level Maths'] = 'Ord'\n",
    "#  # adapted from https://datatofish.com/if-condition-in-pandas-dataframe/\n",
    "# I had looked at transform and apply functions too .\n",
    "\n",
    "#   I am plcking a value under Leaving cert H Level Maths dependent on the value in Junior cert H Level Math results.                                    \n",
    "     \n",
    "\n",
    "    \n",
    "    \n"
   ]
  },
  {
   "cell_type": "code",
   "execution_count": null,
   "metadata": {},
   "outputs": [],
   "source": [
    "df4.head()\n"
   ]
  },
  {
   "cell_type": "code",
   "execution_count": null,
   "metadata": {},
   "outputs": [],
   "source": [
    "df5 = pd.DataFrame({'Age 2019': Ages,'Gender': gender,'Junior Cert H Level Maths results': jcert}, )\n",
    "\n",
    "np.where('Junior Cert H Level Maths results'] == 'A', 'Leaving cert H Level Maths'] = np.random.choice( 'H1','H2','H3','H4', 1, p=[0.32, 0.32, 0.32, 0.04]))\n",
    "np.where('Junior Cert H Level Maths results'] =='B', 'Leaving cert H Level Maths'] = np.random.choice( 'H4''H5','H6','H7',1, p=[0.2,0.325,0.325, 0.15]))\n",
    "np.where('Junior Cert H Level Maths results'] =='C', 'Leaving cert H Level Maths'] = np.random.choice('H7','H8','Ord', 1, p=[0.035, 0.025, 0.94]))           \n",
    "# df5 = pd.DataFrame({'Age 2019': Ages,'Gender': gender,'Junior Cert H Level Maths results': jcert,'Leaving cert H Level Maths':} "
   ]
  },
  {
   "cell_type": "code",
   "execution_count": null,
   "metadata": {},
   "outputs": [],
   "source": [
    "df5"
   ]
  },
  {
   "cell_type": "code",
   "execution_count": null,
   "metadata": {},
   "outputs": [],
   "source": [
    "# OUTPUT OF FINALISED DATASET"
   ]
  },
  {
   "cell_type": "markdown",
   "metadata": {},
   "source": [
    "# Summary:"
   ]
  },
  {
   "cell_type": "markdown",
   "metadata": {},
   "source": [
    "Although my data was of exam results, it was categorical data (nonnumeric).i was therefore restricted to using numpy.random.choice at times."
   ]
  },
  {
   "cell_type": "code",
   "execution_count": null,
   "metadata": {},
   "outputs": [],
   "source": []
  },
  {
   "cell_type": "code",
   "execution_count": null,
   "metadata": {},
   "outputs": [],
   "source": []
  },
  {
   "cell_type": "markdown",
   "metadata": {},
   "source": [
    "# REFERENCES:"
   ]
  },
  {
   "cell_type": "markdown",
   "metadata": {},
   "source": [
    "https://www.examinations.ie/statistics/"
   ]
  },
  {
   "cell_type": "markdown",
   "metadata": {},
   "source": [
    "https://datatofish.com/if-condition-in-pandas-dataframe/"
   ]
  },
  {
   "cell_type": "code",
   "execution_count": null,
   "metadata": {},
   "outputs": [],
   "source": []
  },
  {
   "cell_type": "code",
   "execution_count": null,
   "metadata": {},
   "outputs": [],
   "source": []
  },
  {
   "cell_type": "code",
   "execution_count": null,
   "metadata": {},
   "outputs": [],
   "source": []
  }
 ],
 "metadata": {
  "kernelspec": {
   "display_name": "Python 3",
   "language": "python",
   "name": "python3"
  },
  "language_info": {
   "codemirror_mode": {
    "name": "ipython",
    "version": 3
   },
   "file_extension": ".py",
   "mimetype": "text/x-python",
   "name": "python",
   "nbconvert_exporter": "python",
   "pygments_lexer": "ipython3",
   "version": "3.7.3"
  }
 },
 "nbformat": 4,
 "nbformat_minor": 4
}
