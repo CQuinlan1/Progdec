{
 "cells": [
  {
   "cell_type": "code",
   "execution_count": null,
   "metadata": {},
   "outputs": [],
   "source": [
    "\n"
   ]
  },
  {
   "cell_type": "markdown",
   "metadata": {},
   "source": [
    "Project for module Programming in Data Analytics due date 16th December 2019"
   ]
  },
  {
   "cell_type": "markdown",
   "metadata": {},
   "source": [
    "Created by Catherine A Celeste Quinlan"
   ]
  },
  {
   "cell_type": "markdown",
   "metadata": {},
   "source": [
    "My assignment intruction  is to a  create a simulated data set based on a real life phenomenon using NUMPY.RANDOM , set it in a dataframe, and use this to show the different relationships."
   ]
  },
  {
   "cell_type": "markdown",
   "metadata": {},
   "source": [
    "I chose to look at the relationship between Higher Level Junior Certificate and Leaving Certificate and variables that may influence a student's performance in Higher Level Maths.   "
   ]
  },
  {
   "cell_type": "markdown",
   "metadata": {},
   "source": [
    "There is quite a lot of research on the resources and supports available to students, as well as some data held by ERSI, and www.examinations.ie"
   ]
  },
  {
   "cell_type": "markdown",
   "metadata": {},
   "source": [
    "Also research has been done on the hours a students studies , as well as the variation of teaching hours students recieve."
   ]
  },
  {
   "cell_type": "code",
   "execution_count": 15,
   "metadata": {},
   "outputs": [],
   "source": [
    "\n",
    "import matplotlib.pyplot as plt\n",
    "%matplotlib inline\n",
    "import numpy as np\n",
    "import seaborn as sb\n",
    "import pandas as pd\n",
    "\n",
    "\n",
    "# I import the functions I think I will be using later\n"
   ]
  },
  {
   "cell_type": "code",
   "execution_count": 3,
   "metadata": {},
   "outputs": [],
   "source": [
    "jcert = np.random.choice(['A', 'B','C', 'D'], size=300) #  Here Im assuming that we have an equal chance of a student getting any of the grades"
   ]
  },
  {
   "cell_type": "code",
   "execution_count": 4,
   "metadata": {},
   "outputs": [
    {
     "data": {
      "text/plain": [
       "array(['C', 'A', 'A', 'D', 'B', 'A', 'A', 'B', 'C', 'C', 'D', 'D', 'B',\n",
       "       'A', 'A', 'D', 'B', 'A', 'D', 'D', 'B', 'B', 'D', 'D', 'B', 'D',\n",
       "       'D', 'A', 'B', 'B', 'A', 'B', 'A', 'A', 'B', 'D', 'B', 'B', 'C',\n",
       "       'B', 'A', 'A', 'C', 'B', 'B', 'D', 'B', 'C', 'D', 'C', 'A', 'A',\n",
       "       'C', 'C', 'B', 'B', 'B', 'B', 'C', 'D', 'D', 'B', 'D', 'A', 'B',\n",
       "       'C', 'B', 'D', 'B', 'A', 'C', 'B', 'A', 'B', 'C', 'B', 'D', 'D',\n",
       "       'B', 'A', 'C', 'A', 'B', 'A', 'C', 'B', 'B', 'B', 'C', 'C', 'D',\n",
       "       'C', 'C', 'C', 'A', 'C', 'C', 'D', 'A', 'B', 'C', 'D', 'D', 'B',\n",
       "       'C', 'A', 'A', 'C', 'B', 'C', 'A', 'C', 'C', 'C', 'D', 'B', 'C',\n",
       "       'D', 'C', 'C', 'D', 'D', 'B', 'C', 'A', 'C', 'D', 'C', 'A', 'D',\n",
       "       'B', 'A', 'C', 'D', 'D', 'C', 'D', 'B', 'A', 'B', 'A', 'B', 'B',\n",
       "       'C', 'D', 'C', 'C', 'B', 'D', 'B', 'D', 'C', 'C', 'C', 'D', 'D',\n",
       "       'B', 'B', 'C', 'C', 'D', 'B', 'A', 'A', 'C', 'A', 'B', 'C', 'D',\n",
       "       'A', 'B', 'B', 'A', 'A', 'A', 'A', 'D', 'D', 'C', 'A', 'C', 'D',\n",
       "       'A', 'D', 'D', 'C', 'A', 'B', 'B', 'B', 'B', 'D', 'C', 'D', 'D',\n",
       "       'C', 'D', 'B', 'B', 'C', 'B', 'A', 'D', 'C', 'A', 'A', 'B', 'A',\n",
       "       'D', 'B', 'A', 'C', 'D', 'C', 'D', 'D', 'C', 'D', 'D', 'A', 'C',\n",
       "       'C', 'B', 'C', 'A', 'B', 'D', 'D', 'D', 'B', 'D', 'A', 'A', 'D',\n",
       "       'B', 'C', 'A', 'B', 'C', 'A', 'B', 'D', 'C', 'A', 'C', 'C', 'C',\n",
       "       'C', 'B', 'B', 'B', 'D', 'A', 'B', 'C', 'C', 'C', 'B', 'D', 'D',\n",
       "       'A', 'D', 'B', 'A', 'D', 'D', 'C', 'A', 'B', 'D', 'B', 'D', 'A',\n",
       "       'C', 'B', 'B', 'B', 'A', 'D', 'D', 'A', 'A', 'C', 'A', 'B', 'C',\n",
       "       'B', 'B', 'B', 'C', 'D', 'A', 'C', 'A', 'A', 'C', 'B', 'B', 'B',\n",
       "       'A'], dtype='<U1')"
      ]
     },
     "execution_count": 4,
     "metadata": {},
     "output_type": "execute_result"
    }
   ],
   "source": [
    "jcert"
   ]
  },
  {
   "cell_type": "code",
   "execution_count": 5,
   "metadata": {},
   "outputs": [],
   "source": [
    "Ages = np.random.normal(18, 1, 300).round(0)\n",
    " # The majority of these students at Leaving certificate are 18.We again pick a normal distribution with a mean of 18 and a standard deviation of 1. I chose a normal distribution here as the majority of students doing the leaving has a mean of 18.I am making the assumption of a stardard deviation of 1, as some students are either 1 year above or below. "
   ]
  },
  {
   "cell_type": "code",
   "execution_count": 6,
   "metadata": {},
   "outputs": [
    {
     "data": {
      "text/plain": [
       "array([19., 17., 17., 17., 19., 19., 18., 17., 18., 19., 18., 18., 20.,\n",
       "       17., 19., 18., 18., 18., 18., 18., 17., 15., 18., 18., 18., 17.,\n",
       "       18., 18., 17., 19., 19., 18., 18., 18., 18., 18., 17., 17., 16.,\n",
       "       18., 18., 18., 15., 17., 18., 18., 17., 17., 17., 19., 17., 18.,\n",
       "       19., 20., 17., 18., 19., 17., 18., 18., 18., 19., 18., 17., 17.,\n",
       "       18., 16., 18., 19., 18., 19., 18., 20., 17., 16., 17., 19., 18.,\n",
       "       18., 19., 18., 19., 17., 17., 18., 18., 19., 17., 18., 19., 18.,\n",
       "       17., 19., 18., 19., 17., 19., 20., 18., 19., 19., 18., 19., 17.,\n",
       "       17., 19., 16., 17., 18., 19., 16., 19., 17., 18., 16., 18., 17.,\n",
       "       19., 19., 19., 18., 20., 18., 18., 18., 18., 20., 18., 18., 18.,\n",
       "       16., 19., 18., 19., 20., 18., 17., 19., 18., 15., 18., 16., 18.,\n",
       "       18., 18., 19., 17., 19., 19., 18., 19., 17., 18., 17., 18., 20.,\n",
       "       19., 19., 16., 19., 19., 18., 17., 17., 18., 19., 19., 18., 18.,\n",
       "       16., 19., 18., 17., 16., 18., 16., 18., 19., 18., 18., 18., 19.,\n",
       "       19., 16., 20., 19., 16., 17., 17., 17., 18., 18., 17., 16., 17.,\n",
       "       18., 16., 18., 17., 19., 17., 17., 19., 17., 19., 18., 19., 18.,\n",
       "       15., 18., 17., 17., 17., 19., 17., 18., 17., 19., 17., 17., 20.,\n",
       "       19., 19., 18., 17., 19., 17., 16., 18., 16., 18., 18., 18., 19.,\n",
       "       17., 19., 18., 17., 17., 18., 20., 18., 20., 17., 20., 18., 18.,\n",
       "       17., 18., 19., 16., 18., 16., 18., 19., 19., 17., 16., 19., 19.,\n",
       "       18., 17., 16., 18., 18., 19., 18., 17., 20., 18., 17., 17., 18.,\n",
       "       19., 16., 18., 19., 17., 17., 17., 17., 18., 16., 19., 18., 18.,\n",
       "       18., 17., 19., 18., 18., 18., 18., 19., 20., 19., 18., 17., 19.,\n",
       "       19.])"
      ]
     },
     "execution_count": 6,
     "metadata": {},
     "output_type": "execute_result"
    }
   ],
   "source": [
    "Ages\n",
    "\n"
   ]
  },
  {
   "cell_type": "code",
   "execution_count": 18,
   "metadata": {},
   "outputs": [
    {
     "data": {
      "text/plain": [
       "<function matplotlib.pyplot.show(*args, **kw)>"
      ]
     },
     "execution_count": 18,
     "metadata": {},
     "output_type": "execute_result"
    },
    {
     "data": {
      "image/png": "[encoded data removed]",
      "text/plain": [
       "<Figure size 432x288 with 1 Axes>"
      ]
     },
     "metadata": {
      "needs_background": "light"
     },
     "output_type": "display_data"
    }
   ],
   "source": [
    "plt.hist(Ages,10)\n",
    "plt.show\n",
    "\n",
    "\n"
   ]
  },
  {
   "cell_type": "markdown",
   "metadata": {},
   "source": [
    "This histogram plot shows us normal distribution where mean is 18, as seen here as the highest column. the standard deviaton is 1."
   ]
  },
  {
   "cell_type": "code",
   "execution_count": 22,
   "metadata": {},
   "outputs": [
    {
     "data": {
      "text/plain": [
       "array(['male', 'female', 'female', 'male', 'male', 'female', 'female',\n",
       "       'female', 'male', 'female', 'female', 'male', 'male', 'male',\n",
       "       'female', 'male', 'female', 'female', 'female', 'male', 'male',\n",
       "       'female', 'male', 'male', 'female', 'male', 'female', 'female',\n",
       "       'female', 'male', 'female', 'male', 'female', 'female', 'female',\n",
       "       'female', 'male', 'male', 'male', 'female', 'female', 'female',\n",
       "       'male', 'male', 'female', 'male', 'male', 'female', 'male', 'male',\n",
       "       'female', 'male', 'female', 'male', 'female', 'male', 'female',\n",
       "       'male', 'female', 'female', 'female', 'female', 'female', 'male',\n",
       "       'female', 'male', 'female', 'male', 'female', 'female', 'male',\n",
       "       'male', 'female', 'female', 'male', 'female', 'female', 'female',\n",
       "       'female', 'female', 'male', 'female', 'male', 'male', 'male',\n",
       "       'female', 'male', 'male', 'female', 'male', 'male', 'female',\n",
       "       'female', 'female', 'male', 'male', 'male', 'female', 'male',\n",
       "       'female', 'female', 'female', 'male', 'female', 'female', 'female',\n",
       "       'female', 'female', 'male', 'male', 'male', 'male', 'male', 'male',\n",
       "       'female', 'female', 'female', 'male', 'female', 'male', 'female',\n",
       "       'female', 'male', 'male', 'male', 'female', 'female', 'female',\n",
       "       'male', 'female', 'male', 'male', 'female', 'female', 'female',\n",
       "       'male', 'female', 'male', 'male', 'female', 'male', 'female',\n",
       "       'female', 'male', 'male', 'male', 'male', 'female', 'female',\n",
       "       'female', 'female', 'female', 'male', 'female', 'male', 'female',\n",
       "       'male', 'female', 'male', 'male', 'female', 'male', 'female',\n",
       "       'male', 'female', 'male', 'female', 'female', 'female', 'male',\n",
       "       'male', 'male', 'female', 'female', 'female', 'male', 'female',\n",
       "       'male', 'male', 'male', 'male', 'female', 'male', 'female', 'male',\n",
       "       'female', 'female', 'male', 'male', 'male', 'female', 'female',\n",
       "       'male', 'male', 'male', 'female', 'female', 'male', 'female',\n",
       "       'female', 'female', 'male', 'male', 'male', 'female', 'male',\n",
       "       'male', 'male', 'female', 'male', 'female', 'female', 'male',\n",
       "       'male', 'female', 'male', 'male', 'male', 'male', 'male', 'male',\n",
       "       'male', 'male', 'female', 'female', 'male', 'female', 'male',\n",
       "       'male', 'female', 'female', 'male', 'male', 'female', 'male',\n",
       "       'female', 'male', 'male', 'female', 'male', 'male', 'female',\n",
       "       'female', 'female', 'male', 'female', 'female', 'male', 'male',\n",
       "       'female', 'male', 'female', 'female', 'female', 'male', 'female',\n",
       "       'male', 'male', 'male', 'male', 'female', 'female', 'female',\n",
       "       'female', 'female', 'male', 'female', 'male', 'female', 'male',\n",
       "       'female', 'male', 'male', 'female', 'male', 'female', 'male',\n",
       "       'female', 'female', 'male', 'female', 'female', 'female', 'female',\n",
       "       'male', 'male', 'male', 'female', 'male', 'female', 'female',\n",
       "       'male', 'male', 'male', 'male', 'female', 'male', 'female', 'male',\n",
       "       'female'], dtype='<U6')"
      ]
     },
     "execution_count": 22,
     "metadata": {},
     "output_type": "execute_result"
    }
   ],
   "source": [
    "gender\n"
   ]
  },
  {
   "cell_type": "markdown",
   "metadata": {},
   "source": [
    " Leaving certificate results are linked to Junior Certificate results . Each level at leaving Certificate  having a different possibiilty and different per gender."
   ]
  },
  {
   "cell_type": "code",
   "execution_count": 55,
   "metadata": {},
   "outputs": [],
   "source": [
    "# The average  homework time per week for students in Ireland was 6 hours with a variation of 2-3 hours\n",
    "hw = np.random.normal(7, 2, 300).round(0)"
   ]
  },
  {
   "cell_type": "code",
   "execution_count": 56,
   "metadata": {},
   "outputs": [
    {
     "data": {
      "text/plain": [
       "array([ 8.,  7.,  7.,  6., 10.,  7.,  6.,  6.,  8.,  5.,  8.,  7.,  8.,\n",
       "        4.,  5.,  7.,  8.,  7.,  6.,  4.,  7.,  2.,  9.,  5.,  2.,  7.,\n",
       "        5., 10.,  8.,  6.,  7., 10.,  8.,  6.,  6.,  5.,  9.,  6.,  9.,\n",
       "        5.,  6.,  6.,  6.,  6.,  7.,  5.,  7., 12.,  7., 10.,  9.,  7.,\n",
       "        7.,  7.,  8.,  7.,  6.,  7.,  6.,  8.,  8.,  9.,  7.,  6.,  6.,\n",
       "       10.,  7.,  9.,  6.,  6.,  3.,  5.,  5.,  7.,  7.,  4.,  7., 10.,\n",
       "        7.,  8.,  7.,  5.,  6.,  9.,  2.,  8.,  9., 10., 10.,  5.,  7.,\n",
       "        8.,  7.,  8.,  5.,  6.,  3.,  8.,  6.,  8.,  2.,  7.,  3., 11.,\n",
       "        9., 10.,  7.,  7.,  6.,  7.,  5.,  8.,  5.,  8.,  7., 11.,  6.,\n",
       "        7.,  5.,  8.,  4.,  6.,  5.,  7.,  9.,  4.,  8.,  6.,  6.,  3.,\n",
       "        7.,  9.,  5.,  9.,  9.,  6.,  9.,  8.,  8.,  8.,  8.,  6.,  9.,\n",
       "        5.,  7.,  9.,  9., 10.,  7., 11.,  5.,  7.,  3.,  9.,  8.,  5.,\n",
       "        6.,  7.,  9., 11.,  8., 11., 10.,  9., 11.,  9., 11.,  8.,  3.,\n",
       "        9.,  7.,  8.,  6.,  4.,  8.,  8.,  5.,  6.,  6.,  9.,  6.,  8.,\n",
       "        7.,  7.,  8.,  9.,  7.,  3.,  8.,  8.,  6.,  9.,  5.,  9., 10.,\n",
       "        9.,  4.,  6.,  7.,  8.,  5.,  5., 10.,  9.,  9.,  5.,  7.,  8.,\n",
       "        7., 10.,  6.,  5.,  8.,  7.,  5.,  7.,  4.,  5.,  8., 10.,  8.,\n",
       "        9.,  9.,  5.,  8.,  9.,  6., 11.,  7.,  7., 10.,  6.,  7.,  8.,\n",
       "        6.,  6.,  5.,  7.,  4.,  7.,  8.,  7., 10.,  7., 10.,  7.,  8.,\n",
       "        8., 10.,  8.,  7.,  5., 11.,  6.,  9.,  8., 11.,  9.,  9.,  9.,\n",
       "        7.,  2.,  5.,  6.,  8.,  9.,  8.,  5., 10., 10.,  6.,  5.,  2.,\n",
       "        7.,  7.,  7., 12.,  6.,  7.,  9.,  6.,  6.,  7.,  7.,  5.,  7.,\n",
       "        9.,  9.,  6.,  7.,  8.,  7.,  6.,  9.,  4.,  8.,  7.,  7.,  9.,\n",
       "        3.])"
      ]
     },
     "execution_count": 56,
     "metadata": {},
     "output_type": "execute_result"
    }
   ],
   "source": [
    "hw\n",
    "#  I will decide later if I use this as some numbers appea\n",
    "# The average  homework time per week for students in Ireland was 7 hours with a variation of 2-3 hours\n",
    "# Reference was taken from: https://read.oecd-ilibrary.org/education/does-homework-perpetuate-inequities-in-education_5jxrhqhtx2xt-en#page4 as mentioned below\n",
    "# where 7 hours was the homework time with a standard deviation of 2 hours."
   ]
  },
  {
   "cell_type": "markdown",
   "metadata": {},
   "source": [
    "# Real Data:"
   ]
  },
  {
   "cell_type": "markdown",
   "metadata": {},
   "source": [
    "The data below is from real data information held on the examinations website.I looked at the Junior Certificate result 2016 and Leaving Certificate results 2019.For our data I disregard the students who achieve less than D in Higher, assuming they will drop to Ordinary level."
   ]
  },
  {
   "cell_type": "markdown",
   "metadata": {},
   "source": [
    "Assumptions:"
   ]
  },
  {
   "cell_type": "markdown",
   "metadata": {},
   "source": [
    "*  For our data I disregarded the students who achieved less than a D in higher in the Junior certificate for the purpose of this particular investigation into a similar synthesised dataset. One would expect a solid Foundation at Junior Cycle to be able to proceed with the Higher level course to Leaving Certificate."
   ]
  },
  {
   "cell_type": "markdown",
   "metadata": {},
   "source": [
    "* I have also assumed that they graduaded on to the higher level quite evenly.That is, the quota of H1,H2 etc being filled from those who had achieved  an 'A' etc..in Junior Cycle .I am not at the moment assuming outliers such as D in Junior Certificate staying in to do Higher."
   ]
  },
  {
   "cell_type": "code",
   "execution_count": 25,
   "metadata": {},
   "outputs": [
    {
     "name": "stdout",
     "output_type": "stream",
     "text": [
      "  JC Grades 2016  TOTAL MALE Higher Maths Junior cert  \\      LC Grades 2019  TOTAL MALE Higher Math Leaving cert  \\\n",
      "0              A                                 2112       0             H1                                  766   \n",
      "1              B                                 4962       1             H2                                 1180   \n",
      "2              C                                 5179       2             H3                                  158   \n",
      "3              D                                 3248       3             H4                                 1963   \n",
      "4              E                                  565       4             H5                                 1873   \n",
      "5              F                                   72       5             H6                                 1274   \n",
      "6             NG                                    1       6             H7                                  496   \n",
      "7          Total                                16139       7             H8                                  183   \n",
      "                                                            8          Total                                 9323   \n",
      "   TOTAL FEMALE Higher Maths Junior cert                                                                            \n",
      "0                                   1743                       TOTAL FEMALE Higher Math Leaving cert                \n",
      "1                                   5403                    0                                    332                \n",
      "2                                   5654                    1                                    844                \n",
      "3                                   3370                    2                                    150                \n",
      "4                                    468                    3                                   2132                \n",
      "5                                     52                    4                                   2074                \n",
      "6                                      1                    5                                   1323                \n",
      "7                                  16691                    6                                    482                \n",
      "                                                            7                                    139                \n",
      "                                                            8                                   8830                \n"
     ]
    }
   ],
   "source": [
    "# Real data taken from www.examinations.ie\n",
    " #    TOTAL FEMALE Higher Math Leaving cert ={332,844,150,2132,2074,1323,482,139}\n",
    "  #   TOTAL MALE = Higher Math Leaving cert {766,1180,158,1963,1873,1274,496,183}\n",
    "  #  jc     TOTAL FEMALE= {1743,5403,5654,3370,468,52,1}\n",
    "   #     TOTAL MALE= {2112,4962,5179,3248,565,72,1}\n",
    "\n",
    "# intialise data of lists. \n",
    "data1 = {'JC Grades 2016':[\"A\", \"B\", \"C\", \"D\",\"E\",\"F\",\"NG\",\"Total\"],\n",
    "        'TOTAL MALE Higher Maths Junior cert':[ 2112, 4962, 5179, 3248, 565, 72, 1,16139],\n",
    "        'TOTAL FEMALE Higher Maths Junior cert':[ 1743, 5403, 5654, 3370, 468, 52, 1, 16691]} \n",
    "data2 = {'LC Grades 2019':['H1', 'H2', 'H3', 'H4','H5','H6','H7','H8','Total'],    \n",
    "        'TOTAL MALE Higher Maths Leaving cert':[766, 1180, 158, 1963, 1873, 1274, 496, 183,9323],\n",
    "        'TOTAL FEMALE Higher Maths Leaving cert':[ 332, 844, 150, 2132, 2074, 1323, 482, 139,8830]}\n",
    "  \n",
    "\n",
    "    \n",
    "    # Create DataFrame\n",
    "df1 = pd.DataFrame(data1) \n",
    "df2 = pd.DataFrame(data2)\n",
    "\n",
    "def side_by_side(*objs, **kwds): # Adapted from https://stackoverflow.com/questions/35790922/how-to-render-two-pd-dataframes-in-jupyter-notebook-side-by-side\n",
    "    ''' Une fonction print objects side by side '''\n",
    "    from pandas.io.formats.printing import adjoin\n",
    "    space = kwds.get('space', 4)\n",
    "    reprs = [repr(obj).split('\\n') for obj in objs]\n",
    "    print(adjoin(space, *reprs))\n",
    "\n",
    "# Print the output.\n",
    "side_by_side(df1,df2)\n",
    "\n",
    "\n"
   ]
  },
  {
   "cell_type": "markdown",
   "metadata": {},
   "source": [
    "\n",
    "\n",
    "    Relationships:           "
   ]
  },
  {
   "cell_type": "markdown",
   "metadata": {},
   "source": [
    "Age and. hours of study can be quite random, however their is a direct relationship between the Junior certificate results and the Leaving certificate grade. These are in my opinion where I have to create a dependency of values"
   ]
  },
  {
   "cell_type": "markdown",
   "metadata": {},
   "source": [
    "So we can deduct from above , taking into account the authentic data above that roughly half those who do Higher level at Junior Certificate do Higher for Leaving certificate. We note that for Females doing the Junior Certificate, we will assume that those with the highest levels do it for the Leaving .Then of the 8,830 females at higher LC we will deduct those at H7 and H8, so those who pass at HL in Leaving certificate would be 8209. We can see from those females candidates who got an H1 (332) in Higher Level would have come from 100% those who achieved an A(1743) at Higher level Junior Certificate. Next 844 candidates would include those who got A, and also H3.Even 417 out of the 2132 in the H4 bracket are still from an A in Junior certificate."
   ]
  },
  {
   "cell_type": "markdown",
   "metadata": {},
   "source": [
    "Thus I need to say, A in Jc has an equal probability of getting a H1,H2 or H3 and 1/4 (417/2132) chance of getting a H4. \n",
    "That is, an A in Jc for a female , she will have a 31.7% chance of getting a H1,H2, or H3 at leaving or a 4.9% chance of a H4"
   ]
  },
  {
   "cell_type": "markdown",
   "metadata": {},
   "source": [
    "For a B in Junior Certificate, with 5403  female students, this completes the 1717 left at H4, 1323 at H5, 482 at H6 and 291 would end with a H7 ."
   ]
  },
  {
   "cell_type": "markdown",
   "metadata": {},
   "source": [
    "With female students with a C, 5464, we can see 191 of those witha H7 came from those with a C, and 139 of the H8 could have come under our assumptions from the Junior certificate C.Thus our probabilities will be  2.5% of someone getting a Cand gettign a H8,3.5% of a H7, and 94% of doing Ordinary Level in the Leaving."
   ]
  },
  {
   "cell_type": "markdown",
   "metadata": {},
   "source": [
    "For males students I will work in the same manner.The 9323 Leaving candidates less those who achieved a H7 or H8.9323-679=8644.These 8644 we can assume it is made of As(2112), Bs(4962)and 1570 of those who got Cs.That is 100% of those with an A or B in Higher and 1570/5179 (30.3%) of those whose got a C.\n",
    "\n"
   ]
  },
  {
   "cell_type": "code",
   "execution_count": null,
   "metadata": {},
   "outputs": [],
   "source": [
    "# leaving Certificate results dependent on jc.\n",
    "# if female and C or D then O for Ordinary level\n",
    "#  if female and A or B then A-D\n",
    "# if male and D then Ordinary level\n",
    "# if male and ABC then A-D\n",
    "\n",
    "\n",
    "\n",
    "\n"
   ]
  },
  {
   "cell_type": "code",
   "execution_count": 27,
   "metadata": {},
   "outputs": [
    {
     "data": {
      "text/html": [
       "<div>\n",
       "<style scoped>\n",
       "    .dataframe tbody tr th:only-of-type {\n",
       "        vertical-align: middle;\n",
       "    }\n",
       "\n",
       "    .dataframe tbody tr th {\n",
       "        vertical-align: top;\n",
       "    }\n",
       "\n",
       "    .dataframe thead th {\n",
       "        text-align: right;\n",
       "    }\n",
       "</style>\n",
       "<table border=\"1\" class=\"dataframe\">\n",
       "  <thead>\n",
       "    <tr style=\"text-align: right;\">\n",
       "      <th></th>\n",
       "      <th>Age 2019</th>\n",
       "      <th>Gender</th>\n",
       "      <th>Junior Cert H Level Maths results</th>\n",
       "      <th>Hours spent on homework per week</th>\n",
       "    </tr>\n",
       "  </thead>\n",
       "  <tbody>\n",
       "    <tr>\n",
       "      <th>0</th>\n",
       "      <td>17.0</td>\n",
       "      <td>male</td>\n",
       "      <td>A</td>\n",
       "      <td>4.0</td>\n",
       "    </tr>\n",
       "    <tr>\n",
       "      <th>1</th>\n",
       "      <td>17.0</td>\n",
       "      <td>female</td>\n",
       "      <td>C</td>\n",
       "      <td>6.0</td>\n",
       "    </tr>\n",
       "    <tr>\n",
       "      <th>2</th>\n",
       "      <td>18.0</td>\n",
       "      <td>female</td>\n",
       "      <td>A</td>\n",
       "      <td>10.0</td>\n",
       "    </tr>\n",
       "    <tr>\n",
       "      <th>3</th>\n",
       "      <td>18.0</td>\n",
       "      <td>male</td>\n",
       "      <td>D</td>\n",
       "      <td>4.0</td>\n",
       "    </tr>\n",
       "    <tr>\n",
       "      <th>4</th>\n",
       "      <td>17.0</td>\n",
       "      <td>male</td>\n",
       "      <td>B</td>\n",
       "      <td>5.0</td>\n",
       "    </tr>\n",
       "  </tbody>\n",
       "</table>\n",
       "</div>"
      ],
      "text/plain": [
       "   Age 2019  Gender Junior Cert H Level Maths results  \\\n",
       "0      17.0    male                                 A   \n",
       "1      17.0  female                                 C   \n",
       "2      18.0  female                                 A   \n",
       "3      18.0    male                                 D   \n",
       "4      17.0    male                                 B   \n",
       "\n",
       "   Hours spent on homework per week  \n",
       "0                               4.0  \n",
       "1                               6.0  \n",
       "2                              10.0  \n",
       "3                               4.0  \n",
       "4                               5.0  "
      ]
     },
     "execution_count": 27,
     "metadata": {},
     "output_type": "execute_result"
    }
   ],
   "source": [
    "# Creating the dataframe with the simulated data \\n\n",
    "from pandas import DataFrame\n",
    "df3 = pd.DataFrame({'Age 2019': Ages,'Gender': gender,'Junior Cert H Level Maths results': jcert,'Hours spent on homework per week': hw} )\n",
    "df3.head()"
   ]
  },
  {
   "cell_type": "code",
   "execution_count": 28,
   "metadata": {},
   "outputs": [],
   "source": [
    "\n",
    "\n",
    "df3.loc[df3['Junior Cert H Level Maths results'] == 'A', 'Leaving cert H Level Maths'] = 'H1'\n",
    "\n",
    "df3.loc[df3['Junior Cert H Level Maths results'] == 'B', 'Leaving cert H Level Maths'] = 'H2' \n",
    "df3.loc[df3['Junior Cert H Level Maths results'] == 'C', 'Leaving cert H Level Maths'] = 'H3'\n",
    "df3.loc[df3['Junior Cert H Level Maths results'] == 'D', 'Leaving cert H Level Maths'] = 'Ord'\n",
    "#  # adapted from https://datatofish.com/if-condition-in-pandas-dataframe/\n",
    "# I had looked at transform and apply functions too .\n",
    "\n",
    "#  I  am plcking a value under Leaving cert H Level Maths dependent on the value in Junior cert H Level Math results.                                    \n"
   ]
  },
  {
   "cell_type": "code",
   "execution_count": 30,
   "metadata": {},
   "outputs": [
    {
     "data": {
      "text/html": [
       "<div>\n",
       "<style scoped>\n",
       "    .dataframe tbody tr th:only-of-type {\n",
       "        vertical-align: middle;\n",
       "    }\n",
       "\n",
       "    .dataframe tbody tr th {\n",
       "        vertical-align: top;\n",
       "    }\n",
       "\n",
       "    .dataframe thead th {\n",
       "        text-align: right;\n",
       "    }\n",
       "</style>\n",
       "<table border=\"1\" class=\"dataframe\">\n",
       "  <thead>\n",
       "    <tr style=\"text-align: right;\">\n",
       "      <th></th>\n",
       "      <th>Age 2019</th>\n",
       "      <th>Gender</th>\n",
       "      <th>Junior Cert H Level Maths results</th>\n",
       "      <th>Hours spent on homework per week</th>\n",
       "      <th>Leaving cert H Level Maths</th>\n",
       "    </tr>\n",
       "  </thead>\n",
       "  <tbody>\n",
       "    <tr>\n",
       "      <th>0</th>\n",
       "      <td>17.0</td>\n",
       "      <td>male</td>\n",
       "      <td>A</td>\n",
       "      <td>4.0</td>\n",
       "      <td>H1</td>\n",
       "    </tr>\n",
       "    <tr>\n",
       "      <th>1</th>\n",
       "      <td>17.0</td>\n",
       "      <td>female</td>\n",
       "      <td>C</td>\n",
       "      <td>6.0</td>\n",
       "      <td>H3</td>\n",
       "    </tr>\n",
       "    <tr>\n",
       "      <th>2</th>\n",
       "      <td>18.0</td>\n",
       "      <td>female</td>\n",
       "      <td>A</td>\n",
       "      <td>10.0</td>\n",
       "      <td>H1</td>\n",
       "    </tr>\n",
       "    <tr>\n",
       "      <th>3</th>\n",
       "      <td>18.0</td>\n",
       "      <td>male</td>\n",
       "      <td>D</td>\n",
       "      <td>4.0</td>\n",
       "      <td>Ord</td>\n",
       "    </tr>\n",
       "    <tr>\n",
       "      <th>4</th>\n",
       "      <td>17.0</td>\n",
       "      <td>male</td>\n",
       "      <td>B</td>\n",
       "      <td>5.0</td>\n",
       "      <td>H2</td>\n",
       "    </tr>\n",
       "    <tr>\n",
       "      <th>5</th>\n",
       "      <td>18.0</td>\n",
       "      <td>female</td>\n",
       "      <td>C</td>\n",
       "      <td>5.0</td>\n",
       "      <td>H3</td>\n",
       "    </tr>\n",
       "    <tr>\n",
       "      <th>6</th>\n",
       "      <td>19.0</td>\n",
       "      <td>female</td>\n",
       "      <td>A</td>\n",
       "      <td>6.0</td>\n",
       "      <td>H1</td>\n",
       "    </tr>\n",
       "    <tr>\n",
       "      <th>7</th>\n",
       "      <td>18.0</td>\n",
       "      <td>female</td>\n",
       "      <td>B</td>\n",
       "      <td>7.0</td>\n",
       "      <td>H2</td>\n",
       "    </tr>\n",
       "    <tr>\n",
       "      <th>8</th>\n",
       "      <td>17.0</td>\n",
       "      <td>male</td>\n",
       "      <td>A</td>\n",
       "      <td>9.0</td>\n",
       "      <td>H1</td>\n",
       "    </tr>\n",
       "    <tr>\n",
       "      <th>9</th>\n",
       "      <td>17.0</td>\n",
       "      <td>female</td>\n",
       "      <td>B</td>\n",
       "      <td>7.0</td>\n",
       "      <td>H2</td>\n",
       "    </tr>\n",
       "    <tr>\n",
       "      <th>10</th>\n",
       "      <td>18.0</td>\n",
       "      <td>female</td>\n",
       "      <td>C</td>\n",
       "      <td>9.0</td>\n",
       "      <td>H3</td>\n",
       "    </tr>\n",
       "    <tr>\n",
       "      <th>11</th>\n",
       "      <td>18.0</td>\n",
       "      <td>male</td>\n",
       "      <td>A</td>\n",
       "      <td>5.0</td>\n",
       "      <td>H1</td>\n",
       "    </tr>\n",
       "    <tr>\n",
       "      <th>12</th>\n",
       "      <td>19.0</td>\n",
       "      <td>male</td>\n",
       "      <td>A</td>\n",
       "      <td>6.0</td>\n",
       "      <td>H1</td>\n",
       "    </tr>\n",
       "    <tr>\n",
       "      <th>13</th>\n",
       "      <td>18.0</td>\n",
       "      <td>male</td>\n",
       "      <td>B</td>\n",
       "      <td>8.0</td>\n",
       "      <td>H2</td>\n",
       "    </tr>\n",
       "    <tr>\n",
       "      <th>14</th>\n",
       "      <td>18.0</td>\n",
       "      <td>female</td>\n",
       "      <td>C</td>\n",
       "      <td>9.0</td>\n",
       "      <td>H3</td>\n",
       "    </tr>\n",
       "    <tr>\n",
       "      <th>15</th>\n",
       "      <td>18.0</td>\n",
       "      <td>male</td>\n",
       "      <td>D</td>\n",
       "      <td>7.0</td>\n",
       "      <td>Ord</td>\n",
       "    </tr>\n",
       "    <tr>\n",
       "      <th>16</th>\n",
       "      <td>19.0</td>\n",
       "      <td>female</td>\n",
       "      <td>D</td>\n",
       "      <td>7.0</td>\n",
       "      <td>Ord</td>\n",
       "    </tr>\n",
       "    <tr>\n",
       "      <th>17</th>\n",
       "      <td>18.0</td>\n",
       "      <td>female</td>\n",
       "      <td>D</td>\n",
       "      <td>7.0</td>\n",
       "      <td>Ord</td>\n",
       "    </tr>\n",
       "    <tr>\n",
       "      <th>18</th>\n",
       "      <td>19.0</td>\n",
       "      <td>female</td>\n",
       "      <td>D</td>\n",
       "      <td>11.0</td>\n",
       "      <td>Ord</td>\n",
       "    </tr>\n",
       "    <tr>\n",
       "      <th>19</th>\n",
       "      <td>18.0</td>\n",
       "      <td>male</td>\n",
       "      <td>A</td>\n",
       "      <td>9.0</td>\n",
       "      <td>H1</td>\n",
       "    </tr>\n",
       "    <tr>\n",
       "      <th>20</th>\n",
       "      <td>19.0</td>\n",
       "      <td>male</td>\n",
       "      <td>B</td>\n",
       "      <td>3.0</td>\n",
       "      <td>H2</td>\n",
       "    </tr>\n",
       "    <tr>\n",
       "      <th>21</th>\n",
       "      <td>18.0</td>\n",
       "      <td>female</td>\n",
       "      <td>C</td>\n",
       "      <td>6.0</td>\n",
       "      <td>H3</td>\n",
       "    </tr>\n",
       "    <tr>\n",
       "      <th>22</th>\n",
       "      <td>19.0</td>\n",
       "      <td>male</td>\n",
       "      <td>C</td>\n",
       "      <td>3.0</td>\n",
       "      <td>H3</td>\n",
       "    </tr>\n",
       "    <tr>\n",
       "      <th>23</th>\n",
       "      <td>17.0</td>\n",
       "      <td>male</td>\n",
       "      <td>B</td>\n",
       "      <td>5.0</td>\n",
       "      <td>H2</td>\n",
       "    </tr>\n",
       "    <tr>\n",
       "      <th>24</th>\n",
       "      <td>19.0</td>\n",
       "      <td>female</td>\n",
       "      <td>A</td>\n",
       "      <td>11.0</td>\n",
       "      <td>H1</td>\n",
       "    </tr>\n",
       "    <tr>\n",
       "      <th>25</th>\n",
       "      <td>18.0</td>\n",
       "      <td>male</td>\n",
       "      <td>D</td>\n",
       "      <td>4.0</td>\n",
       "      <td>Ord</td>\n",
       "    </tr>\n",
       "    <tr>\n",
       "      <th>26</th>\n",
       "      <td>20.0</td>\n",
       "      <td>female</td>\n",
       "      <td>A</td>\n",
       "      <td>3.0</td>\n",
       "      <td>H1</td>\n",
       "    </tr>\n",
       "    <tr>\n",
       "      <th>27</th>\n",
       "      <td>18.0</td>\n",
       "      <td>female</td>\n",
       "      <td>B</td>\n",
       "      <td>7.0</td>\n",
       "      <td>H2</td>\n",
       "    </tr>\n",
       "    <tr>\n",
       "      <th>28</th>\n",
       "      <td>18.0</td>\n",
       "      <td>female</td>\n",
       "      <td>D</td>\n",
       "      <td>2.0</td>\n",
       "      <td>Ord</td>\n",
       "    </tr>\n",
       "    <tr>\n",
       "      <th>29</th>\n",
       "      <td>17.0</td>\n",
       "      <td>male</td>\n",
       "      <td>A</td>\n",
       "      <td>5.0</td>\n",
       "      <td>H1</td>\n",
       "    </tr>\n",
       "    <tr>\n",
       "      <th>...</th>\n",
       "      <td>...</td>\n",
       "      <td>...</td>\n",
       "      <td>...</td>\n",
       "      <td>...</td>\n",
       "      <td>...</td>\n",
       "    </tr>\n",
       "    <tr>\n",
       "      <th>270</th>\n",
       "      <td>18.0</td>\n",
       "      <td>female</td>\n",
       "      <td>D</td>\n",
       "      <td>5.0</td>\n",
       "      <td>Ord</td>\n",
       "    </tr>\n",
       "    <tr>\n",
       "      <th>271</th>\n",
       "      <td>19.0</td>\n",
       "      <td>male</td>\n",
       "      <td>D</td>\n",
       "      <td>9.0</td>\n",
       "      <td>Ord</td>\n",
       "    </tr>\n",
       "    <tr>\n",
       "      <th>272</th>\n",
       "      <td>18.0</td>\n",
       "      <td>male</td>\n",
       "      <td>D</td>\n",
       "      <td>8.0</td>\n",
       "      <td>Ord</td>\n",
       "    </tr>\n",
       "    <tr>\n",
       "      <th>273</th>\n",
       "      <td>17.0</td>\n",
       "      <td>female</td>\n",
       "      <td>A</td>\n",
       "      <td>6.0</td>\n",
       "      <td>H1</td>\n",
       "    </tr>\n",
       "    <tr>\n",
       "      <th>274</th>\n",
       "      <td>21.0</td>\n",
       "      <td>male</td>\n",
       "      <td>D</td>\n",
       "      <td>5.0</td>\n",
       "      <td>Ord</td>\n",
       "    </tr>\n",
       "    <tr>\n",
       "      <th>275</th>\n",
       "      <td>18.0</td>\n",
       "      <td>female</td>\n",
       "      <td>D</td>\n",
       "      <td>9.0</td>\n",
       "      <td>Ord</td>\n",
       "    </tr>\n",
       "    <tr>\n",
       "      <th>276</th>\n",
       "      <td>17.0</td>\n",
       "      <td>male</td>\n",
       "      <td>C</td>\n",
       "      <td>5.0</td>\n",
       "      <td>H3</td>\n",
       "    </tr>\n",
       "    <tr>\n",
       "      <th>277</th>\n",
       "      <td>17.0</td>\n",
       "      <td>female</td>\n",
       "      <td>A</td>\n",
       "      <td>2.0</td>\n",
       "      <td>H1</td>\n",
       "    </tr>\n",
       "    <tr>\n",
       "      <th>278</th>\n",
       "      <td>17.0</td>\n",
       "      <td>female</td>\n",
       "      <td>C</td>\n",
       "      <td>4.0</td>\n",
       "      <td>H3</td>\n",
       "    </tr>\n",
       "    <tr>\n",
       "      <th>279</th>\n",
       "      <td>16.0</td>\n",
       "      <td>male</td>\n",
       "      <td>A</td>\n",
       "      <td>8.0</td>\n",
       "      <td>H1</td>\n",
       "    </tr>\n",
       "    <tr>\n",
       "      <th>280</th>\n",
       "      <td>17.0</td>\n",
       "      <td>female</td>\n",
       "      <td>D</td>\n",
       "      <td>9.0</td>\n",
       "      <td>Ord</td>\n",
       "    </tr>\n",
       "    <tr>\n",
       "      <th>281</th>\n",
       "      <td>18.0</td>\n",
       "      <td>female</td>\n",
       "      <td>B</td>\n",
       "      <td>8.0</td>\n",
       "      <td>H2</td>\n",
       "    </tr>\n",
       "    <tr>\n",
       "      <th>282</th>\n",
       "      <td>18.0</td>\n",
       "      <td>female</td>\n",
       "      <td>C</td>\n",
       "      <td>7.0</td>\n",
       "      <td>H3</td>\n",
       "    </tr>\n",
       "    <tr>\n",
       "      <th>283</th>\n",
       "      <td>18.0</td>\n",
       "      <td>female</td>\n",
       "      <td>C</td>\n",
       "      <td>6.0</td>\n",
       "      <td>H3</td>\n",
       "    </tr>\n",
       "    <tr>\n",
       "      <th>284</th>\n",
       "      <td>18.0</td>\n",
       "      <td>male</td>\n",
       "      <td>D</td>\n",
       "      <td>7.0</td>\n",
       "      <td>Ord</td>\n",
       "    </tr>\n",
       "    <tr>\n",
       "      <th>285</th>\n",
       "      <td>19.0</td>\n",
       "      <td>male</td>\n",
       "      <td>D</td>\n",
       "      <td>5.0</td>\n",
       "      <td>Ord</td>\n",
       "    </tr>\n",
       "    <tr>\n",
       "      <th>286</th>\n",
       "      <td>18.0</td>\n",
       "      <td>male</td>\n",
       "      <td>D</td>\n",
       "      <td>3.0</td>\n",
       "      <td>Ord</td>\n",
       "    </tr>\n",
       "    <tr>\n",
       "      <th>287</th>\n",
       "      <td>19.0</td>\n",
       "      <td>female</td>\n",
       "      <td>B</td>\n",
       "      <td>6.0</td>\n",
       "      <td>H2</td>\n",
       "    </tr>\n",
       "    <tr>\n",
       "      <th>288</th>\n",
       "      <td>20.0</td>\n",
       "      <td>male</td>\n",
       "      <td>B</td>\n",
       "      <td>4.0</td>\n",
       "      <td>H2</td>\n",
       "    </tr>\n",
       "    <tr>\n",
       "      <th>289</th>\n",
       "      <td>17.0</td>\n",
       "      <td>female</td>\n",
       "      <td>D</td>\n",
       "      <td>8.0</td>\n",
       "      <td>Ord</td>\n",
       "    </tr>\n",
       "    <tr>\n",
       "      <th>290</th>\n",
       "      <td>19.0</td>\n",
       "      <td>female</td>\n",
       "      <td>B</td>\n",
       "      <td>5.0</td>\n",
       "      <td>H2</td>\n",
       "    </tr>\n",
       "    <tr>\n",
       "      <th>291</th>\n",
       "      <td>18.0</td>\n",
       "      <td>male</td>\n",
       "      <td>A</td>\n",
       "      <td>6.0</td>\n",
       "      <td>H1</td>\n",
       "    </tr>\n",
       "    <tr>\n",
       "      <th>292</th>\n",
       "      <td>17.0</td>\n",
       "      <td>male</td>\n",
       "      <td>C</td>\n",
       "      <td>8.0</td>\n",
       "      <td>H3</td>\n",
       "    </tr>\n",
       "    <tr>\n",
       "      <th>293</th>\n",
       "      <td>20.0</td>\n",
       "      <td>male</td>\n",
       "      <td>A</td>\n",
       "      <td>6.0</td>\n",
       "      <td>H1</td>\n",
       "    </tr>\n",
       "    <tr>\n",
       "      <th>294</th>\n",
       "      <td>17.0</td>\n",
       "      <td>male</td>\n",
       "      <td>A</td>\n",
       "      <td>7.0</td>\n",
       "      <td>H1</td>\n",
       "    </tr>\n",
       "    <tr>\n",
       "      <th>295</th>\n",
       "      <td>19.0</td>\n",
       "      <td>female</td>\n",
       "      <td>C</td>\n",
       "      <td>7.0</td>\n",
       "      <td>H3</td>\n",
       "    </tr>\n",
       "    <tr>\n",
       "      <th>296</th>\n",
       "      <td>20.0</td>\n",
       "      <td>male</td>\n",
       "      <td>A</td>\n",
       "      <td>8.0</td>\n",
       "      <td>H1</td>\n",
       "    </tr>\n",
       "    <tr>\n",
       "      <th>297</th>\n",
       "      <td>18.0</td>\n",
       "      <td>female</td>\n",
       "      <td>C</td>\n",
       "      <td>4.0</td>\n",
       "      <td>H3</td>\n",
       "    </tr>\n",
       "    <tr>\n",
       "      <th>298</th>\n",
       "      <td>18.0</td>\n",
       "      <td>male</td>\n",
       "      <td>B</td>\n",
       "      <td>8.0</td>\n",
       "      <td>H2</td>\n",
       "    </tr>\n",
       "    <tr>\n",
       "      <th>299</th>\n",
       "      <td>19.0</td>\n",
       "      <td>female</td>\n",
       "      <td>D</td>\n",
       "      <td>9.0</td>\n",
       "      <td>Ord</td>\n",
       "    </tr>\n",
       "  </tbody>\n",
       "</table>\n",
       "<p>300 rows × 5 columns</p>\n",
       "</div>"
      ],
      "text/plain": [
       "     Age 2019  Gender Junior Cert H Level Maths results  \\\n",
       "0        17.0    male                                 A   \n",
       "1        17.0  female                                 C   \n",
       "2        18.0  female                                 A   \n",
       "3        18.0    male                                 D   \n",
       "4        17.0    male                                 B   \n",
       "5        18.0  female                                 C   \n",
       "6        19.0  female                                 A   \n",
       "7        18.0  female                                 B   \n",
       "8        17.0    male                                 A   \n",
       "9        17.0  female                                 B   \n",
       "10       18.0  female                                 C   \n",
       "11       18.0    male                                 A   \n",
       "12       19.0    male                                 A   \n",
       "13       18.0    male                                 B   \n",
       "14       18.0  female                                 C   \n",
       "15       18.0    male                                 D   \n",
       "16       19.0  female                                 D   \n",
       "17       18.0  female                                 D   \n",
       "18       19.0  female                                 D   \n",
       "19       18.0    male                                 A   \n",
       "20       19.0    male                                 B   \n",
       "21       18.0  female                                 C   \n",
       "22       19.0    male                                 C   \n",
       "23       17.0    male                                 B   \n",
       "24       19.0  female                                 A   \n",
       "25       18.0    male                                 D   \n",
       "26       20.0  female                                 A   \n",
       "27       18.0  female                                 B   \n",
       "28       18.0  female                                 D   \n",
       "29       17.0    male                                 A   \n",
       "..        ...     ...                               ...   \n",
       "270      18.0  female                                 D   \n",
       "271      19.0    male                                 D   \n",
       "272      18.0    male                                 D   \n",
       "273      17.0  female                                 A   \n",
       "274      21.0    male                                 D   \n",
       "275      18.0  female                                 D   \n",
       "276      17.0    male                                 C   \n",
       "277      17.0  female                                 A   \n",
       "278      17.0  female                                 C   \n",
       "279      16.0    male                                 A   \n",
       "280      17.0  female                                 D   \n",
       "281      18.0  female                                 B   \n",
       "282      18.0  female                                 C   \n",
       "283      18.0  female                                 C   \n",
       "284      18.0    male                                 D   \n",
       "285      19.0    male                                 D   \n",
       "286      18.0    male                                 D   \n",
       "287      19.0  female                                 B   \n",
       "288      20.0    male                                 B   \n",
       "289      17.0  female                                 D   \n",
       "290      19.0  female                                 B   \n",
       "291      18.0    male                                 A   \n",
       "292      17.0    male                                 C   \n",
       "293      20.0    male                                 A   \n",
       "294      17.0    male                                 A   \n",
       "295      19.0  female                                 C   \n",
       "296      20.0    male                                 A   \n",
       "297      18.0  female                                 C   \n",
       "298      18.0    male                                 B   \n",
       "299      19.0  female                                 D   \n",
       "\n",
       "     Hours spent on homework per week Leaving cert H Level Maths  \n",
       "0                                 4.0                         H1  \n",
       "1                                 6.0                         H3  \n",
       "2                                10.0                         H1  \n",
       "3                                 4.0                        Ord  \n",
       "4                                 5.0                         H2  \n",
       "5                                 5.0                         H3  \n",
       "6                                 6.0                         H1  \n",
       "7                                 7.0                         H2  \n",
       "8                                 9.0                         H1  \n",
       "9                                 7.0                         H2  \n",
       "10                                9.0                         H3  \n",
       "11                                5.0                         H1  \n",
       "12                                6.0                         H1  \n",
       "13                                8.0                         H2  \n",
       "14                                9.0                         H3  \n",
       "15                                7.0                        Ord  \n",
       "16                                7.0                        Ord  \n",
       "17                                7.0                        Ord  \n",
       "18                               11.0                        Ord  \n",
       "19                                9.0                         H1  \n",
       "20                                3.0                         H2  \n",
       "21                                6.0                         H3  \n",
       "22                                3.0                         H3  \n",
       "23                                5.0                         H2  \n",
       "24                               11.0                         H1  \n",
       "25                                4.0                        Ord  \n",
       "26                                3.0                         H1  \n",
       "27                                7.0                         H2  \n",
       "28                                2.0                        Ord  \n",
       "29                                5.0                         H1  \n",
       "..                                ...                        ...  \n",
       "270                               5.0                        Ord  \n",
       "271                               9.0                        Ord  \n",
       "272                               8.0                        Ord  \n",
       "273                               6.0                         H1  \n",
       "274                               5.0                        Ord  \n",
       "275                               9.0                        Ord  \n",
       "276                               5.0                         H3  \n",
       "277                               2.0                         H1  \n",
       "278                               4.0                         H3  \n",
       "279                               8.0                         H1  \n",
       "280                               9.0                        Ord  \n",
       "281                               8.0                         H2  \n",
       "282                               7.0                         H3  \n",
       "283                               6.0                         H3  \n",
       "284                               7.0                        Ord  \n",
       "285                               5.0                        Ord  \n",
       "286                               3.0                        Ord  \n",
       "287                               6.0                         H2  \n",
       "288                               4.0                         H2  \n",
       "289                               8.0                        Ord  \n",
       "290                               5.0                         H2  \n",
       "291                               6.0                         H1  \n",
       "292                               8.0                         H3  \n",
       "293                               6.0                         H1  \n",
       "294                               7.0                         H1  \n",
       "295                               7.0                         H3  \n",
       "296                               8.0                         H1  \n",
       "297                               4.0                         H3  \n",
       "298                               8.0                         H2  \n",
       "299                               9.0                        Ord  \n",
       "\n",
       "[300 rows x 5 columns]"
      ]
     },
     "execution_count": 30,
     "metadata": {},
     "output_type": "execute_result"
    }
   ],
   "source": [
    "df3 # OUTPUT OF DATASET"
   ]
  },
  {
   "cell_type": "markdown",
   "metadata": {},
   "source": [
    "Here we can see the values for Leaving Certificate if they were a certain value following the Junior Certificate. However, they are dependent on different probabilities.\n"
   ]
  },
  {
   "cell_type": "code",
   "execution_count": 54,
   "metadata": {},
   "outputs": [],
   "source": [
    "\n",
    "# Here I try and base the values achieved on their probabilities of occuring.\n",
    "# Here I try to have the leaving certificate results dependent on the percentage chance \n",
    "# Not working as yet\n",
    "\n",
    "\n",
    "\n",
    "      \n",
    "Leaving_cert_H_Level_Maths1 = ['H1','H2','H3','H4'] \n",
    "Leaving_cert_H_Level_Maths2 = ['H4','H5','H6','H7'] \n",
    "Leaving_cert_H_Level_Maths3 = ['H7','H8','Ord'] \n",
    "\n",
    "\n",
    "  #  np.random.choice( Leaving_cert_H_Level_Maths1, 1, p=[0.32, 0.32, 0.32, 0.04])\n",
    "df4 = pd.DataFrame({'Age 2019': Ages,'Gender': gender,'Junior Cert H Level Maths results': jcert,'Hours spent on homework per week': hw} )\n",
    "\n",
    "\n",
    "df4.loc[df4['Junior Cert H Level Maths results'] == 'A', 'Leaving cert H Level Maths'] = np.random.choice( Leaving_cert_H_Level_Maths1, 1, p=[0.32, 0.32, 0.32, 0.04])\n",
    "#  adapting from https://docs.scipy.org/doc/numpy-1.15.0/reference/generated/numpy.random.choice.html#numpy.random.choice\n",
    "# Here I am making the value from leaving certificate maths come from choice, with the probabilities that I have calculated.\n",
    "df4.loc[df4['Junior Cert H Level Maths results'] == 'B', 'Leaving cert H Level Maths'] = np.random.choice( Leaving_cert_H_Level_Maths2, 1, p=[0.20, 0.325, 0.325, 0.15])\n",
    " \n",
    "df4.loc[df4['Junior Cert H Level Maths results'] == 'C', 'Leaving cert H Level Maths'] = np.random.choice( Leaving_cert_H_Level_Maths3, 1, p=[0.035, 0.025, 0.94])\n",
    "\n",
    "df4.loc[df4['Junior Cert H Level Maths results'] == 'D', 'Leaving cert H Level Maths'] = 'Ord'\n",
    "#  # adapted from https://datatofish.com/if-condition-in-pandas-dataframe/\n",
    "# I had looked at transform and apply functions too .\n",
    "\n",
    "#   I am picking a value under Leaving cert H Level Maths dependent on the value in Junior cert H Level Math results.                                    \n",
    "     \n",
    "\n",
    "    \n",
    "    \n"
   ]
  },
  {
   "cell_type": "code",
   "execution_count": null,
   "metadata": {},
   "outputs": [],
   "source": [
    "df4"
   ]
  },
  {
   "cell_type": "markdown",
   "metadata": {},
   "source": [
    "# Summary:"
   ]
  },
  {
   "cell_type": "markdown",
   "metadata": {},
   "source": [
    "Although my data was of exam results, it was categorical data (nonnumeric). I was therefore restricted to using numpy.random.choice at times."
   ]
  },
  {
   "cell_type": "markdown",
   "metadata": {},
   "source": [
    "I created a random set of values for the Junior Certificate results using choice, since it is the best way to find a random range of categorical data."
   ]
  },
  {
   "cell_type": "markdown",
   "metadata": {},
   "source": [
    "I then looked at ages, and created an array based on 18 being the mean age of a student and with Standard deviation of 1 year. This does give me some outlier of 16 and 20 but I agree that these can exist in real life."
   ]
  },
  {
   "cell_type": "markdown",
   "metadata": {},
   "source": [
    "Then I created an array for gender using numpy.choice where we had an equal chance of either. I then looked at homework.A study had been done saying students on avaerage spend 7 hours in Ireland doing homework, with a standard deviation of 2 hours ."
   ]
  },
  {
   "cell_type": "markdown",
   "metadata": {},
   "source": [
    "I then tested and connected a value in junior certificate with a value in Leaving certificate. However, when I try to implement it, with a numpy. choice based on the percentage possibility devised by the students details from examination, it saves as df4 but does not print to screen."
   ]
  },
  {
   "cell_type": "markdown",
   "metadata": {},
   "source": [
    "# REFERENCES:"
   ]
  },
  {
   "cell_type": "markdown",
   "metadata": {},
   "source": [
    "https://www.examinations.ie/statistics/ [Viewed 15/12/19]"
   ]
  },
  {
   "cell_type": "markdown",
   "metadata": {},
   "source": [
    "https://datatofish.com/if-condition-in-pandas-dataframe [Viewed 12/12/19]"
   ]
  },
  {
   "cell_type": "markdown",
   "metadata": {},
   "source": [
    "https://docs.scipy.org/doc/numpy-1.14.0/reference/routines.random.html [Viewed 15/12/19]"
   ]
  },
  {
   "cell_type": "markdown",
   "metadata": {},
   "source": [
    "https://read.oecd-ilibrary.org/education/does-homework-perpetuate-inequities-in-education_5jxrhqhtx2xt-en#page2 [accessed 10/12/19]"
   ]
  },
  {
   "cell_type": "markdown",
   "metadata": {},
   "source": [
    "Module videos : Programming for Data Analytics learnonline.gmit.ie"
   ]
  },
  {
   "cell_type": "raw",
   "metadata": {},
   "source": [
    "  Growing Up in Ireland: Education, Training and Employment, KEY FINDINGS: COHORT ’98 AT 20 YEARS OLD IN 2018/19 [Accessed 10/12/19, attached ]"
   ]
  },
  {
   "cell_type": "markdown",
   "metadata": {},
   "source": [
    "GROWING UP IN IRELAND: KEY FINDINGS: CHILD COHORT AT 17/18 YEARS NO. 1:EDUCATION AND EARLY WORK EXPERIENCES [Accessed 10/12/19, attached ]"
   ]
  },
  {
   "cell_type": "markdown",
   "metadata": {},
   "source": [
    "\n",
    "Donnelly Katherine,September 14 2016,The Irish Times,Time spent on maths at schools varies by more than 100 hours  https://www.independent.ie/irish-news/education/time-spent-on-maths-at-schools-varies-by-more-than-100-hours-35047214.html ][Viewed 10/12/19]"
   ]
  },
  {
   "cell_type": "code",
   "execution_count": null,
   "metadata": {},
   "outputs": [],
   "source": []
  }
 ],
 "metadata": {
  "kernelspec": {
   "display_name": "Python 3",
   "language": "python",
   "name": "python3"
  },
  "language_info": {
   "codemirror_mode": {
    "name": "ipython",
    "version": 3
   },
   "file_extension": ".py",
   "mimetype": "text/x-python",
   "name": "python",
   "nbconvert_exporter": "python",
   "pygments_lexer": "ipython3",
   "version": "3.7.3"
  }
 },
 "nbformat": 4,
 "nbformat_minor": 4
}
