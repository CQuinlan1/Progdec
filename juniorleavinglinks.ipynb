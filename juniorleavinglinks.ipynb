{
 "cells": [
  {
   "cell_type": "code",
   "execution_count": null,
   "metadata": {},
   "outputs": [],
   "source": [
    "\n"
   ]
  },
  {
   "cell_type": "markdown",
   "metadata": {},
   "source": [
    "Project for module Programming in Data Analytics due date 13th December 2019"
   ]
  },
  {
   "cell_type": "markdown",
   "metadata": {},
   "source": [
    "Created by Catherine A Celeste Quinlan"
   ]
  },
  {
   "cell_type": "markdown",
   "metadata": {},
   "source": [
    "To create a simulated data set based on a real life phenomenon using NUMPY.RANDOM , set it in a dataframe, and use this to show the different relationships."
   ]
  },
  {
   "cell_type": "markdown",
   "metadata": {},
   "source": [
    "I chose to look at the relationship between Higher Level Junior Certificate and Leaving Certificate and variables that may influence a student's performance in Higher Level Maths.   "
   ]
  },
  {
   "cell_type": "code",
   "execution_count": 13,
   "metadata": {},
   "outputs": [],
   "source": [
    "%matplotlib notebook\n",
    "import matplotlib.pyplot as plt\n",
    "import numpy as np\n",
    "import seaborn as sb\n",
    "import pandas as pd\n",
    "\n",
    "# I import the functions I think I will be using later\n"
   ]
  },
  {
   "cell_type": "code",
   "execution_count": 17,
   "metadata": {},
   "outputs": [],
   "source": []
  },
  {
   "cell_type": "code",
   "execution_count": null,
   "metadata": {},
   "outputs": [],
   "source": [
    " \n",
    "    "
   ]
  },
  {
   "cell_type": "code",
   "execution_count": 30,
   "metadata": {},
   "outputs": [],
   "source": [
    "jcert = np.random.choice(['A', 'B','C', 'D'], size=300) #  Here Im assuming that we have an equal chance of a student getting any of the grades"
   ]
  },
  {
   "cell_type": "code",
   "execution_count": 31,
   "metadata": {},
   "outputs": [
    {
     "data": {
      "text/plain": [
       "array(['D', 'D', 'C', 'D', 'D', 'C', 'D', 'A', 'C', 'B', 'C', 'B', 'B',\n",
       "       'C', 'D', 'C', 'C', 'B', 'D', 'C', 'A', 'A', 'D', 'B', 'B', 'C',\n",
       "       'D', 'A', 'B', 'D', 'D', 'D', 'C', 'B', 'A', 'D', 'D', 'A', 'A',\n",
       "       'C', 'A', 'C', 'A', 'D', 'D', 'D', 'A', 'A', 'A', 'C', 'B', 'A',\n",
       "       'D', 'C', 'D', 'D', 'B', 'B', 'C', 'D', 'C', 'A', 'C', 'C', 'C',\n",
       "       'D', 'C', 'A', 'B', 'D', 'B', 'B', 'B', 'B', 'A', 'B', 'A', 'D',\n",
       "       'A', 'B', 'D', 'C', 'C', 'B', 'B', 'A', 'C', 'A', 'C', 'B', 'D',\n",
       "       'C', 'B', 'B', 'C', 'B', 'A', 'D', 'C', 'C', 'D', 'A', 'A', 'D',\n",
       "       'B', 'D', 'A', 'D', 'B', 'C', 'A', 'D', 'B', 'B', 'C', 'C', 'B',\n",
       "       'B', 'C', 'C', 'C', 'B', 'B', 'A', 'D', 'A', 'B', 'A', 'B', 'D',\n",
       "       'C', 'C', 'D', 'C', 'C', 'B', 'C', 'C', 'B', 'C', 'B', 'B', 'D',\n",
       "       'B', 'A', 'A', 'D', 'A', 'A', 'A', 'C', 'B', 'C', 'D', 'A', 'B',\n",
       "       'C', 'D', 'C', 'A', 'D', 'B', 'B', 'B', 'A', 'D', 'B', 'B', 'D',\n",
       "       'D', 'B', 'B', 'C', 'A', 'D', 'C', 'D', 'B', 'B', 'D', 'D', 'D',\n",
       "       'B', 'B', 'C', 'C', 'B', 'A', 'D', 'C', 'D', 'A', 'C', 'D', 'A',\n",
       "       'D', 'B', 'C', 'B', 'A', 'B', 'B', 'D', 'B', 'A', 'D', 'C', 'B',\n",
       "       'A', 'B', 'C', 'A', 'D', 'C', 'B', 'B', 'B', 'C', 'A', 'C', 'B',\n",
       "       'B', 'D', 'B', 'A', 'A', 'C', 'A', 'C', 'A', 'A', 'C', 'D', 'C',\n",
       "       'D', 'D', 'C', 'C', 'D', 'C', 'A', 'B', 'A', 'C', 'C', 'C', 'C',\n",
       "       'C', 'C', 'D', 'B', 'C', 'B', 'B', 'B', 'C', 'B', 'A', 'A', 'B',\n",
       "       'D', 'A', 'A', 'A', 'B', 'C', 'C', 'A', 'A', 'B', 'C', 'A', 'A',\n",
       "       'D', 'D', 'B', 'D', 'B', 'C', 'B', 'C', 'B', 'A', 'D', 'A', 'B',\n",
       "       'C', 'C', 'B', 'A', 'C', 'B', 'A', 'C', 'C', 'C', 'C', 'B', 'A',\n",
       "       'B'], dtype='<U1')"
      ]
     },
     "execution_count": 31,
     "metadata": {},
     "output_type": "execute_result"
    }
   ],
   "source": [
    "jcert"
   ]
  },
  {
   "cell_type": "code",
   "execution_count": 32,
   "metadata": {},
   "outputs": [],
   "source": [
    "Ages = np.random.normal(18, 1, 300).round(0)\n",
    " # The majority of these students at Leaving certificate are 18.We again pick a normal distribution with a mean of 18 and a standard deviation of 1. I chose a normal distribution here as the majority of students doing the leaving has a mean of 18.I am making the assumption of a stardard deviation of 1, as some students are either 1 year above or below. "
   ]
  },
  {
   "cell_type": "code",
   "execution_count": null,
   "metadata": {},
   "outputs": [],
   "source": []
  },
  {
   "cell_type": "code",
   "execution_count": 33,
   "metadata": {},
   "outputs": [
    {
     "data": {
      "text/plain": [
       "array([17., 18., 18., 18., 19., 16., 17., 18., 18., 18., 17., 17., 17.,\n",
       "       18., 17., 18., 18., 17., 18., 18., 18., 17., 19., 18., 18., 19.,\n",
       "       19., 18., 18., 16., 18., 18., 17., 18., 18., 19., 18., 17., 17.,\n",
       "       18., 18., 17., 18., 19., 18., 18., 16., 20., 20., 17., 17., 20.,\n",
       "       19., 19., 18., 18., 19., 19., 19., 19., 18., 18., 19., 19., 20.,\n",
       "       18., 17., 19., 17., 19., 18., 18., 18., 18., 18., 17., 18., 19.,\n",
       "       18., 16., 17., 19., 18., 19., 19., 18., 17., 17., 18., 18., 19.,\n",
       "       19., 19., 18., 19., 19., 18., 17., 18., 18., 18., 19., 17., 17.,\n",
       "       19., 17., 19., 20., 19., 18., 17., 19., 17., 17., 19., 17., 18.,\n",
       "       19., 19., 16., 18., 18., 19., 16., 19., 19., 18., 17., 18., 17.,\n",
       "       18., 19., 19., 18., 19., 18., 18., 18., 18., 18., 18., 17., 18.,\n",
       "       18., 18., 18., 18., 19., 17., 15., 18., 18., 17., 18., 19., 17.,\n",
       "       19., 20., 18., 19., 18., 18., 20., 18., 17., 17., 19., 18., 18.,\n",
       "       20., 18., 19., 18., 16., 18., 19., 19., 18., 17., 19., 18., 17.,\n",
       "       19., 17., 21., 19., 18., 19., 18., 19., 17., 19., 16., 19., 18.,\n",
       "       17., 17., 18., 19., 17., 16., 21., 19., 19., 18., 17., 18., 19.,\n",
       "       18., 19., 19., 20., 17., 18., 19., 18., 17., 18., 18., 18., 18.,\n",
       "       20., 19., 17., 21., 17., 18., 18., 17., 19., 17., 16., 19., 20.,\n",
       "       17., 18., 17., 19., 19., 19., 18., 19., 19., 18., 19., 19., 18.,\n",
       "       19., 17., 18., 18., 18., 16., 19., 18., 17., 21., 19., 17., 17.,\n",
       "       18., 19., 18., 18., 18., 17., 17., 18., 17., 17., 17., 18., 16.,\n",
       "       18., 17., 20., 17., 18., 21., 18., 19., 18., 16., 19., 19., 16.,\n",
       "       18., 18., 18., 16., 19., 18., 18., 18., 19., 17., 18., 18., 18.,\n",
       "       18.])"
      ]
     },
     "execution_count": 33,
     "metadata": {},
     "output_type": "execute_result"
    }
   ],
   "source": [
    "Ages\n",
    "\n"
   ]
  },
  {
   "cell_type": "code",
   "execution_count": 34,
   "metadata": {},
   "outputs": [],
   "source": [
    "# Creating an array of male and female for the 300\n",
    "gender = np.random.choice(['male', 'female'], size=300)"
   ]
  },
  {
   "cell_type": "code",
   "execution_count": 35,
   "metadata": {},
   "outputs": [
    {
     "data": {
      "text/plain": [
       "array(['male', 'male', 'female', 'male', 'male', 'male', 'male', 'female',\n",
       "       'male', 'female', 'female', 'female', 'male', 'male', 'female',\n",
       "       'female', 'female', 'female', 'female', 'female', 'male', 'male',\n",
       "       'female', 'female', 'female', 'female', 'female', 'male', 'male',\n",
       "       'female', 'male', 'female', 'female', 'female', 'male', 'male',\n",
       "       'male', 'female', 'male', 'female', 'female', 'female', 'male',\n",
       "       'female', 'male', 'male', 'female', 'female', 'female', 'male',\n",
       "       'male', 'female', 'male', 'male', 'female', 'male', 'female',\n",
       "       'male', 'female', 'female', 'male', 'male', 'female', 'male',\n",
       "       'male', 'female', 'male', 'female', 'female', 'female', 'male',\n",
       "       'male', 'male', 'male', 'male', 'female', 'male', 'male', 'female',\n",
       "       'female', 'female', 'male', 'female', 'male', 'female', 'male',\n",
       "       'male', 'female', 'female', 'female', 'male', 'female', 'male',\n",
       "       'female', 'male', 'female', 'female', 'male', 'male', 'male',\n",
       "       'male', 'male', 'female', 'female', 'female', 'female', 'male',\n",
       "       'male', 'female', 'female', 'male', 'female', 'female', 'male',\n",
       "       'male', 'female', 'female', 'male', 'male', 'female', 'male',\n",
       "       'male', 'female', 'male', 'male', 'female', 'male', 'female',\n",
       "       'female', 'female', 'female', 'female', 'male', 'female', 'female',\n",
       "       'female', 'female', 'female', 'female', 'female', 'male', 'female',\n",
       "       'female', 'female', 'male', 'male', 'female', 'male', 'female',\n",
       "       'female', 'female', 'male', 'male', 'female', 'male', 'female',\n",
       "       'female', 'female', 'female', 'female', 'male', 'male', 'male',\n",
       "       'female', 'female', 'male', 'male', 'female', 'male', 'male',\n",
       "       'female', 'male', 'male', 'female', 'female', 'male', 'female',\n",
       "       'female', 'male', 'male', 'female', 'male', 'male', 'male',\n",
       "       'female', 'male', 'female', 'female', 'male', 'male', 'male',\n",
       "       'female', 'male', 'male', 'female', 'female', 'male', 'female',\n",
       "       'female', 'female', 'male', 'male', 'female', 'male', 'female',\n",
       "       'male', 'female', 'male', 'female', 'male', 'female', 'female',\n",
       "       'female', 'female', 'male', 'female', 'female', 'male', 'female',\n",
       "       'female', 'female', 'female', 'female', 'female', 'male', 'male',\n",
       "       'male', 'male', 'male', 'male', 'female', 'male', 'male', 'male',\n",
       "       'female', 'female', 'male', 'female', 'female', 'female', 'female',\n",
       "       'male', 'male', 'male', 'male', 'female', 'male', 'male', 'male',\n",
       "       'male', 'female', 'female', 'male', 'female', 'male', 'male',\n",
       "       'female', 'male', 'male', 'female', 'male', 'female', 'male',\n",
       "       'male', 'male', 'male', 'male', 'male', 'female', 'male', 'male',\n",
       "       'female', 'female', 'male', 'male', 'female', 'female', 'female',\n",
       "       'female', 'female', 'female', 'female', 'female', 'male', 'female',\n",
       "       'male', 'female', 'male', 'male', 'female', 'female', 'female',\n",
       "       'male', 'female', 'male', 'female', 'male', 'female', 'female',\n",
       "       'male'], dtype='<U6')"
      ]
     },
     "execution_count": 35,
     "metadata": {},
     "output_type": "execute_result"
    }
   ],
   "source": [
    "gender\n"
   ]
  },
  {
   "cell_type": "markdown",
   "metadata": {},
   "source": [
    " Leaving certificate results are linked to Junior Certificate results . Each level at leaving Certificate  having a different possibiilty and different per gender."
   ]
  },
  {
   "cell_type": "code",
   "execution_count": 36,
   "metadata": {},
   "outputs": [],
   "source": [
    "# The average  homework time per week for students in Ireland was 6 hours with a variation of 2-3 hours\n",
    "hw = np.random.normal(6, 2, 300).round(0)"
   ]
  },
  {
   "cell_type": "code",
   "execution_count": 6,
   "metadata": {},
   "outputs": [
    {
     "data": {
      "text/plain": [
       "array([ 7.,  7.,  4.,  5.,  5.,  8.,  6.,  8.,  8.,  7.,  5.,  8.,  4.,\n",
       "        6.,  5.,  5.,  7.,  4.,  6.,  7.,  4.,  9.,  4.,  9.,  8.,  5.,\n",
       "        6.,  7.,  5.,  5.,  5.,  9.,  5.,  3.,  7.,  7.,  7.,  4.,  9.,\n",
       "        4.,  6.,  7.,  6.,  8.,  3.,  7.,  5.,  7.,  6.,  4.,  4., 11.,\n",
       "        8.,  6.,  8.,  9.,  8.,  7.,  8.,  7.,  3.,  5.,  6.,  9.,  9.,\n",
       "        3.,  5.,  7.,  5.,  6.,  6.,  7., -1.,  3.,  5.,  7.,  6.,  2.,\n",
       "        5.,  6.,  6.,  4.,  3.,  7.,  7.,  8.,  6.,  6.,  6.,  7.,  7.,\n",
       "        7.,  7.,  8.,  7.,  3.,  9., 13.,  8.,  5.,  4., 11.,  3.,  7.,\n",
       "        7.,  7.,  5.,  6.,  6., 10.,  7.,  9.,  7.,  7.,  6.,  5.,  8.,\n",
       "        7.,  6.,  7.,  5.,  7.,  8.,  5.,  6., 10.,  5.,  8.,  6.,  5.,\n",
       "        3.,  3.,  8., 10.,  8., 10., 10.,  6.,  3.,  2.,  6.,  7.,  3.,\n",
       "        5.,  3.,  3.,  5.,  4.,  5.,  6.,  7.,  3.,  6.,  8.,  8.,  7.,\n",
       "        5.,  3.,  7.,  7.,  5.,  5.,  5.,  8.,  3.,  5.,  9.,  5.,  6.,\n",
       "        6.,  4.,  6.,  9.,  3.,  8.,  7.,  7.,  8., 10.,  5.,  5.,  7.,\n",
       "        7.,  3.,  7.,  6.,  7.,  8.,  4.,  6.,  3.,  9.,  6.,  4.,  3.,\n",
       "        6.,  8.,  7.,  5.,  6.,  6.,  8.,  8.,  7.,  6.,  5.,  5.,  8.,\n",
       "        7.,  9.,  6.,  9.,  4.,  6.,  5.,  3.,  5.,  9.,  9.,  9.,  9.,\n",
       "        7.,  7.,  4.,  3.,  6.,  5.,  5.,  9.,  7.,  5.,  8.,  4.,  7.,\n",
       "        4.,  5.,  6.,  5.,  4.,  1.,  8.,  5.,  9.,  5.,  8.,  6.,  5.,\n",
       "        3.,  7.,  7.,  7.,  8.,  3.,  7.,  5.,  5.,  5.,  7.,  1.,  8.,\n",
       "        5., 10.,  9.,  5.,  3.,  9.,  6.,  7.,  6.,  9.,  4.,  7.,  7.,\n",
       "        3.,  7.,  5.,  4.,  8.,  5.,  6.,  3.,  7.,  7.,  6.,  7.,  7.,\n",
       "        9.,  5.,  1.,  7.,  5.,  7.,  7.,  7.,  8.,  6.,  7.,  5.,  1.,\n",
       "        7.])"
      ]
     },
     "execution_count": 6,
     "metadata": {},
     "output_type": "execute_result"
    }
   ],
   "source": [
    "hw\n",
    "#  I will decide later if I use this as some numbers appeared negative "
   ]
  },
  {
   "cell_type": "code",
   "execution_count": 37,
   "metadata": {},
   "outputs": [
    {
     "name": "stdout",
     "output_type": "stream",
     "text": [
      "  JC Grades 2016  TOTAL MALE Higher Maths Junior cert  \\      LC Grades 2019  TOTAL MALE Higher Math Leaving cert  \\\n",
      "0              A                                 2112       0             H1                                  766   \n",
      "1              B                                 4962       1             H2                                 1180   \n",
      "2              C                                 5179       2             H3                                  158   \n",
      "3              D                                 3248       3             H4                                 1963   \n",
      "4              E                                  565       4             H5                                 1873   \n",
      "5              F                                   72       5             H6                                 1274   \n",
      "6             NG                                    1       6             H7                                  496   \n",
      "7          Total                                16139       7             H8                                  183   \n",
      "                                                            8          Total                                 9323   \n",
      "   TOTAL FEMALE Higher Maths Junior cert                                                                            \n",
      "0                                   1743                       TOTAL FEMALE Higher Math Leaving cert                \n",
      "1                                   5403                    0                                    332                \n",
      "2                                   5654                    1                                    844                \n",
      "3                                   3370                    2                                    150                \n",
      "4                                    468                    3                                   2132                \n",
      "5                                     52                    4                                   2074                \n",
      "6                                      1                    5                                   1323                \n",
      "7                                  16691                    6                                    482                \n",
      "                                                            7                                    139                \n",
      "                                                            8                                   8830                \n"
     ]
    }
   ],
   "source": [
    "# Real data taken from www.examinations.ie\n",
    " #    TOTAL FEMALE Higher Math Leaving cert ={332,844,150,2132,2074,1323,482,139}\n",
    "  #   TOTAL MALE = Higher Math Leaving cert {766,1180,158,1963,1873,1274,496,183}\n",
    "  #  jc     TOTAL FEMALE= {1743,5403,5654,3370,468,52,1}\n",
    "   #     TOTAL MALE= {2112,4962,5179,3248,565,72,1}\n",
    "\n",
    "# intialise data of lists. \n",
    "data1 = {'JC Grades 2016':[\"A\", \"B\", \"C\", \"D\",\"E\",\"F\",\"NG\",\"Total\"],\n",
    "        'TOTAL MALE Higher Maths Junior cert':[ 2112, 4962, 5179, 3248, 565, 72, 1,16139],\n",
    "        'TOTAL FEMALE Higher Maths Junior cert':[ 1743, 5403, 5654, 3370, 468, 52, 1, 16691]} \n",
    "data2 = {'LC Grades 2019':['H1', 'H2', 'H3', 'H4','H5','H6','H7','H8','Total'],    \n",
    "        'TOTAL MALE Higher Math Leaving cert':[766, 1180, 158, 1963, 1873, 1274, 496, 183,9323],\n",
    "        'TOTAL FEMALE Higher Math Leaving cert':[ 332, 844, 150, 2132, 2074, 1323, 482, 139,8830]}\n",
    "  \n",
    "\n",
    "    \n",
    "    # Create DataFrame\n",
    "df1 = pd.DataFrame(data1) \n",
    "df2 = pd.DataFrame(data2)\n",
    "\n",
    "def side_by_side(*objs, **kwds): # Adapted from https://stackoverflow.com/questions/35790922/how-to-render-two-pd-dataframes-in-jupyter-notebook-side-by-side\n",
    "    ''' Une fonction print objects side by side '''\n",
    "    from pandas.io.formats.printing import adjoin\n",
    "    space = kwds.get('space', 4)\n",
    "    reprs = [repr(obj).split('\\n') for obj in objs]\n",
    "    print(adjoin(space, *reprs))\n",
    "\n",
    "# Print the output.\n",
    "side_by_side(df1,df2)\n",
    "\n",
    "#print(df1)\n",
    "#print(df2)\n"
   ]
  },
  {
   "cell_type": "markdown",
   "metadata": {},
   "source": [
    "We can see from the authentic data above that roughly half those who do Higher level at Junior Certificate do Higher for Leaving certificate. We note that for Females doing the Junior Certificate, we will assume that those with the highest levels do it for the Leaving .Then of the 8,830 females at higher LC we will deduct those at H7 and H8, so those who pass at HL in Leaving certificate would be 8209.Then tose females candidates would have come from 100% those who achieved an A(1743) at Higher level Junior Certificate. Next 6466 candidates would include those who got B (5403).Then the remaining 1o63 candidates we can assume come from the 5654 candidates who achieved C in the Junior certificate,leaving 4591 candidates who achieved C at junior not attempting/not passing higher Level.\n",
    "So for females:\n",
    "I will asuume 100% probability of them doing Higher Leaving Certificate if a female achieves an A or B in Junior Certificate. However,only a 1063/5654 (18.8%) chance if they achieved a C."
   ]
  },
  {
   "cell_type": "markdown",
   "metadata": {},
   "source": [
    "For males students I will work in the same manner.The 9323 Leaving candidates less those who achieved a H7 or H8.9323-679=8644.These 8644 we can assume it is made of As(2112),Bs(4962)and 1570 of those who got Cs.That is 100% of those with an A or B in Higher and 1570/5179 (30.3%) of those whose got a C.\n",
    "\n"
   ]
  },
  {
   "cell_type": "code",
   "execution_count": 14,
   "metadata": {},
   "outputs": [
    {
     "data": {
      "text/plain": [
       "[<function __main__.<lambda>(x)>]"
      ]
     },
     "execution_count": 14,
     "metadata": {},
     "output_type": "execute_result"
    }
   ],
   "source": [
    "# leaving Certificate results dependent on jc.\n",
    "# if female and C or D then O for Ordinary level\n",
    "#  if female and A or B then A-D\n",
    "# if male and D then Ordinary level\n",
    "# if male and ABC then A-D\n",
    "\n",
    "\n",
    "Ordinary = [\n",
    "  lambda x: (x['gender'] == female) and (x['jcert'] == C or D) or\n",
    "   (x['gender'] == male) and (x['jcert'] == D) \n",
    "]\n",
    "\n",
    "def group_by_condition(l, Ordinary):\n",
    "    return [[item for item in l if Ordinary(item)] for Ordinary in conditions]\n",
    "\n",
    "# [] = group_by_Ordinary( Ordinary1)\n",
    "\n"
   ]
  },
  {
   "cell_type": "code",
   "execution_count": null,
   "metadata": {},
   "outputs": [],
   "source": [
    "  df['Leaving certificate'] = df.apply('jcert') (lambda \n",
    "                            , axis = 1) \n",
    "    \n"
   ]
  },
  {
   "cell_type": "code",
   "execution_count": 38,
   "metadata": {},
   "outputs": [
    {
     "data": {
      "text/html": [
       "<div>\n",
       "<style scoped>\n",
       "    .dataframe tbody tr th:only-of-type {\n",
       "        vertical-align: middle;\n",
       "    }\n",
       "\n",
       "    .dataframe tbody tr th {\n",
       "        vertical-align: top;\n",
       "    }\n",
       "\n",
       "    .dataframe thead th {\n",
       "        text-align: right;\n",
       "    }\n",
       "</style>\n",
       "<table border=\"1\" class=\"dataframe\">\n",
       "  <thead>\n",
       "    <tr style=\"text-align: right;\">\n",
       "      <th></th>\n",
       "      <th>Age 2019</th>\n",
       "      <th>Gender</th>\n",
       "      <th>Junior Cert H Level Maths results</th>\n",
       "    </tr>\n",
       "  </thead>\n",
       "  <tbody>\n",
       "    <tr>\n",
       "      <th>0</th>\n",
       "      <td>17.0</td>\n",
       "      <td>male</td>\n",
       "      <td>D</td>\n",
       "    </tr>\n",
       "    <tr>\n",
       "      <th>1</th>\n",
       "      <td>18.0</td>\n",
       "      <td>male</td>\n",
       "      <td>D</td>\n",
       "    </tr>\n",
       "    <tr>\n",
       "      <th>2</th>\n",
       "      <td>18.0</td>\n",
       "      <td>female</td>\n",
       "      <td>C</td>\n",
       "    </tr>\n",
       "    <tr>\n",
       "      <th>3</th>\n",
       "      <td>18.0</td>\n",
       "      <td>male</td>\n",
       "      <td>D</td>\n",
       "    </tr>\n",
       "    <tr>\n",
       "      <th>4</th>\n",
       "      <td>19.0</td>\n",
       "      <td>male</td>\n",
       "      <td>D</td>\n",
       "    </tr>\n",
       "  </tbody>\n",
       "</table>\n",
       "</div>"
      ],
      "text/plain": [
       "   Age 2019  Gender Junior Cert H Level Maths results\n",
       "0      17.0    male                                 D\n",
       "1      18.0    male                                 D\n",
       "2      18.0  female                                 C\n",
       "3      18.0    male                                 D\n",
       "4      19.0    male                                 D"
      ]
     },
     "execution_count": 38,
     "metadata": {},
     "output_type": "execute_result"
    }
   ],
   "source": [
    "# Creating the dataframe with the simulated data \\n\n",
    "from pandas import DataFrame\n",
    "df = pd.DataFrame({'Age 2019': Ages,'Gender': gender,'Junior Cert H Level Maths results': jcert} )\n",
    "df.head()"
   ]
  },
  {
   "cell_type": "code",
   "execution_count": 39,
   "metadata": {},
   "outputs": [
    {
     "ename": "KeyError",
     "evalue": "'Column not found: df'",
     "output_type": "error",
     "traceback": [
      "\u001b[1;31m---------------------------------------------------------------------------\u001b[0m",
      "\u001b[1;31mKeyError\u001b[0m                                  Traceback (most recent call last)",
      "\u001b[1;32m<ipython-input-39-ce13442f4c25>\u001b[0m in \u001b[0;36m<module>\u001b[1;34m\u001b[0m\n\u001b[1;32m----> 1\u001b[1;33m df['Leaving cert H Level Maths'] = df.groupby('Junior Cert H Level Maths results')['df'].transform(\n\u001b[0m\u001b[0;32m      2\u001b[0m     lambda x : x.x())\n",
      "\u001b[1;32m~\\Anaconda3\\lib\\site-packages\\pandas\\core\\base.py\u001b[0m in \u001b[0;36m__getitem__\u001b[1;34m(self, key)\u001b[0m\n\u001b[0;32m    273\u001b[0m         \u001b[1;32melse\u001b[0m\u001b[1;33m:\u001b[0m\u001b[1;33m\u001b[0m\u001b[1;33m\u001b[0m\u001b[0m\n\u001b[0;32m    274\u001b[0m             \u001b[1;32mif\u001b[0m \u001b[0mkey\u001b[0m \u001b[1;32mnot\u001b[0m \u001b[1;32min\u001b[0m \u001b[0mself\u001b[0m\u001b[1;33m.\u001b[0m\u001b[0mobj\u001b[0m\u001b[1;33m:\u001b[0m\u001b[1;33m\u001b[0m\u001b[1;33m\u001b[0m\u001b[0m\n\u001b[1;32m--> 275\u001b[1;33m                 \u001b[1;32mraise\u001b[0m \u001b[0mKeyError\u001b[0m\u001b[1;33m(\u001b[0m\u001b[1;34m\"Column not found: {key}\"\u001b[0m\u001b[1;33m.\u001b[0m\u001b[0mformat\u001b[0m\u001b[1;33m(\u001b[0m\u001b[0mkey\u001b[0m\u001b[1;33m=\u001b[0m\u001b[0mkey\u001b[0m\u001b[1;33m)\u001b[0m\u001b[1;33m)\u001b[0m\u001b[1;33m\u001b[0m\u001b[1;33m\u001b[0m\u001b[0m\n\u001b[0m\u001b[0;32m    276\u001b[0m             \u001b[1;32mreturn\u001b[0m \u001b[0mself\u001b[0m\u001b[1;33m.\u001b[0m\u001b[0m_gotitem\u001b[0m\u001b[1;33m(\u001b[0m\u001b[0mkey\u001b[0m\u001b[1;33m,\u001b[0m \u001b[0mndim\u001b[0m\u001b[1;33m=\u001b[0m\u001b[1;36m1\u001b[0m\u001b[1;33m)\u001b[0m\u001b[1;33m\u001b[0m\u001b[1;33m\u001b[0m\u001b[0m\n\u001b[0;32m    277\u001b[0m \u001b[1;33m\u001b[0m\u001b[0m\n",
      "\u001b[1;31mKeyError\u001b[0m: 'Column not found: df'"
     ]
    }
   ],
   "source": [
    "df['Leaving cert H Level Maths'] = df.groupby('Junior Cert H Level Maths results')['df'].transform(\n",
    "    lambda x : x.x())"
   ]
  },
  {
   "cell_type": "code",
   "execution_count": null,
   "metadata": {},
   "outputs": [],
   "source": []
  }
 ],
 "metadata": {
  "kernelspec": {
   "display_name": "Python 3",
   "language": "python",
   "name": "python3"
  },
  "language_info": {
   "codemirror_mode": {
    "name": "ipython",
    "version": 3
   },
   "file_extension": ".py",
   "mimetype": "text/x-python",
   "name": "python",
   "nbconvert_exporter": "python",
   "pygments_lexer": "ipython3",
   "version": "3.7.3"
  }
 },
 "nbformat": 4,
 "nbformat_minor": 4
}
